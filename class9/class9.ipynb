{
 "cells": [
  {
   "cell_type": "code",
   "execution_count": 1,
   "metadata": {},
   "outputs": [
    {
     "data": {
      "text/plain": [
       "'\\ndef function_name(param1:type) ->   return_type:\\n    function_body\\n'"
      ]
     },
     "execution_count": 1,
     "metadata": {},
     "output_type": "execute_result"
    }
   ],
   "source": [
    "\"\"\"\n",
    "def function_name(param1:type) ->   return_type:\n",
    "    function_body\n",
    "\"\"\""
   ]
  },
  {
   "cell_type": "markdown",
   "metadata": {},
   "source": [
    "* Pre-defined Functions\n",
    "    * print\n",
    "    * chr\n",
    "    * ord\n",
    "    * exec\n",
    "    * id\n",
    "    * len\n",
    "    * iter\n",
    "    * enumerate\n",
    "    * zip\n",
    "    * repr\n",
    "    * next\n",
    "    * count"
   ]
  },
  {
   "cell_type": "code",
   "execution_count": 3,
   "metadata": {},
   "outputs": [
    {
     "name": "stdout",
     "output_type": "stream",
     "text": [
      "PIAIC\n"
     ]
    },
    {
     "data": {
      "text/plain": [
       "11"
      ]
     },
     "execution_count": 3,
     "metadata": {},
     "output_type": "execute_result"
    }
   ],
   "source": [
    "def PIAIC() -> None:\n",
    "    print(\"PIAIC\")\n",
    "PIAIC()\n",
    "\n",
    "def add_num(num1:int, num2:int = 10) -> int:\n",
    "    return num1 + num2\n",
    "add_num(1)"
   ]
  },
  {
   "cell_type": "code",
   "execution_count": 12,
   "metadata": {},
   "outputs": [
    {
     "name": "stdout",
     "output_type": "stream",
     "text": [
      "(1, 2, 3, 4, 5)\n",
      "15\n",
      "(1, 2, 3, 4, 5)\n",
      "15\n",
      "(1, 2, 3)\n",
      "6\n"
     ]
    }
   ],
   "source": [
    "def add_num(*nums) -> None:\n",
    "    print(nums)\n",
    "    print(sum(nums))\n",
    "\n",
    "nums_list:list[int] = [1,2,3,4,5]\n",
    "nums_tup: tuple[int,int,int] = [1,2,3]\n",
    "\n",
    "add_num(1,2,3,4,5)\n",
    "add_num(*nums_list)\n",
    "add_num(*nums_tup)"
   ]
  },
  {
   "cell_type": "code",
   "execution_count": 13,
   "metadata": {},
   "outputs": [
    {
     "data": {
      "text/plain": [
       "'\\nlambda param1,param2 : expression\\n'"
      ]
     },
     "execution_count": 13,
     "metadata": {},
     "output_type": "execute_result"
    }
   ],
   "source": [
    "\"\"\"\n",
    "lambda param1,param2 : expression\n",
    "\"\"\""
   ]
  },
  {
   "cell_type": "code",
   "execution_count": 14,
   "metadata": {},
   "outputs": [
    {
     "data": {
      "text/plain": [
       "15"
      ]
     },
     "execution_count": 14,
     "metadata": {},
     "output_type": "execute_result"
    }
   ],
   "source": [
    "a = lambda num1,num2 : num1 + num2\n",
    "a(7,8)"
   ]
  },
  {
   "cell_type": "markdown",
   "metadata": {},
   "source": [
    "* map\n",
    "* filter\n",
    "* reduce"
   ]
  },
  {
   "cell_type": "code",
   "execution_count": 16,
   "metadata": {},
   "outputs": [
    {
     "name": "stdout",
     "output_type": "stream",
     "text": [
      "[1, 4, 9, 16, 25, 36, 49, 64, 81, 100, 121, 144, 169, 196, 225, 256]\n"
     ]
    }
   ],
   "source": [
    "data = [1,2,3,4,5,6,7,8,9,10,11,12,13,14,15,16]\n",
    "a = map(lambda x:x**2,data) #a looks like a generator function\n",
    "print(list(a))"
   ]
  },
  {
   "cell_type": "code",
   "execution_count": 18,
   "metadata": {},
   "outputs": [
    {
     "name": "stdout",
     "output_type": "stream",
     "text": [
      "[2, 4, 6, 8, 10, 12, 14, 16]\n"
     ]
    }
   ],
   "source": [
    "data = [1,2,3,4,5,6,7,8,9,10,11,12,13,14,15,16]\n",
    "b = filter(lambda x : x%2 == 0,data)\n",
    "print(list(b))"
   ]
  },
  {
   "cell_type": "code",
   "execution_count": 20,
   "metadata": {},
   "outputs": [
    {
     "name": "stdout",
     "output_type": "stream",
     "text": [
      "22\n"
     ]
    }
   ],
   "source": [
    "from typing import Callable\n",
    "add: Callable[[int,int],int] = lambda num1,num2 : num1+num2 \n",
    "\n",
    "result = add(10,12)\n",
    "print(result)"
   ]
  },
  {
   "cell_type": "code",
   "execution_count": 31,
   "metadata": {},
   "outputs": [],
   "source": [
    "#Variable number of argumnents\n",
    "from typing import Tuple\n",
    "def greet(*names: Tuple[str,...]) ->None:\n",
    "    for name in names:\n",
    "        print(f\"Hello {name}\")\n"
   ]
  },
  {
   "cell_type": "code",
   "execution_count": 32,
   "metadata": {},
   "outputs": [
    {
     "data": {
      "text/plain": [
       "4"
      ]
     },
     "execution_count": 32,
     "metadata": {},
     "output_type": "execute_result"
    }
   ],
   "source": [
    "square = lambda x : x**2 \n",
    "square(2)"
   ]
  },
  {
   "cell_type": "code",
   "execution_count": 33,
   "metadata": {},
   "outputs": [
    {
     "name": "stdout",
     "output_type": "stream",
     "text": [
      "100\n"
     ]
    }
   ],
   "source": [
    "#Higher Order Functions\n",
    "from typing import Callable\n",
    "\n",
    "def apply(func:Callable[[int],int], value: int) -> int:\n",
    "    return func(value)\n",
    "\n",
    "result:int = apply(lambda x:x**2,10)\n",
    "print(result)"
   ]
  },
  {
   "cell_type": "code",
   "execution_count": 34,
   "metadata": {},
   "outputs": [
    {
     "name": "stdout",
     "output_type": "stream",
     "text": [
      "15\n"
     ]
    }
   ],
   "source": [
    "#Closures\n",
    "from typing import Callable\n",
    "\n",
    "def outer_func(x:int) -> Callable[[int],int]:\n",
    "    def inner_func(y:int) ->int:\n",
    "        return x+y\n",
    "    return inner_func\n",
    "\n",
    "closure = outer_func(10)\n",
    "print(closure(5))\n"
   ]
  },
  {
   "cell_type": "markdown",
   "metadata": {},
   "source": [
    "# Higher Order Function Vs Decorator"
   ]
  },
  {
   "cell_type": "code",
   "execution_count": 36,
   "metadata": {},
   "outputs": [
    {
     "data": {
      "text/plain": [
       "'\\nThe higher order function only extends the concept that \\nthe functions can be passed as arguments to a function \\nor can be returned by a function optionally. \\nThe decorator, whereas, intends to enhance the functionality of a function , \\nand it does so by receiving the function that it wants to enhance \\nand returns another function that is basically a wrapper function around the passed function \\n, in the wrapped function we can write the reusable logic \\nand manipulate the arguments that will be be passed to the parameter of the passsed function \\nand can also control the execution flow before and after it and simmilar logic. \\nSince it is based on the idea of accepting and returning a function \\nso it is also a higher order function\\n'"
      ]
     },
     "execution_count": 36,
     "metadata": {},
     "output_type": "execute_result"
    }
   ],
   "source": [
    "\"\"\"\n",
    "The higher order function only extends the concept that \n",
    "the functions can be passed as arguments to a function \n",
    "or can be returned by a function optionally. \n",
    "The decorator, whereas, intends to enhance the functionality of a function , \n",
    "and it does so by receiving the function that it wants to enhance \n",
    "and returns another function that is basically a wrapper function around the passed function \n",
    ", in the wrapped function we can write the reusable logic \n",
    "and manipulate the arguments that will be be passed to the parameter of the passsed function \n",
    "and can also control the execution flow before and after it and simmilar logic. \n",
    "Since it is based on the idea of accepting and returning a function \n",
    "so it is also a higher order function\n",
    "\"\"\""
   ]
  },
  {
   "cell_type": "code",
   "execution_count": 37,
   "metadata": {},
   "outputs": [
    {
     "name": "stdout",
     "output_type": "stream",
     "text": [
      "Print Before Call\n",
      "Hello\n",
      "Print After Call\n"
     ]
    }
   ],
   "source": [
    "# Decorator\n",
    "\n",
    "from typing import Callable\n",
    "\n",
    "def print_before_and_after(func:Callable[[],None]) -> Callable[[],None]:\n",
    "    def wrapper() -> None:\n",
    "        print(\"Print Before Call\")\n",
    "        func()\n",
    "        print(\"Print After Call\")\n",
    "    return wrapper\n",
    "\n",
    "@print_before_and_after\n",
    "def say_hello() -> None:\n",
    "    print(\"Hello\")\n",
    "\n",
    "say_hello()\n"
   ]
  },
  {
   "cell_type": "code",
   "execution_count": 38,
   "metadata": {},
   "outputs": [
    {
     "data": {
      "text/plain": [
       "6"
      ]
     },
     "execution_count": 38,
     "metadata": {},
     "output_type": "execute_result"
    }
   ],
   "source": [
    "#Recursion\n",
    "\n",
    "def factorial(x:int) ->int:\n",
    "    if x == 1:\n",
    "        return 1\n",
    "    return x * factorial(x - 1)\n",
    "\n",
    "factorial(3)"
   ]
  },
  {
   "cell_type": "code",
   "execution_count": 54,
   "metadata": {},
   "outputs": [
    {
     "name": "stdout",
     "output_type": "stream",
     "text": [
      "[1, 2, 3, 4, 5, 6, 7, 8, 9]\n",
      "[]\n"
     ]
    }
   ],
   "source": [
    "#abc here means abstract class\n",
    "#Also Generator is a subclass of Iterator or a type of Iterator\n",
    "from collections.abc import Iterator\n",
    "\n",
    "def my_range(start:int,end:int,step:int = 1) -> Iterator[int]:\n",
    "    for i in range(start,end,step):\n",
    "        yield i\n",
    "\n",
    "a:Iterator[int] = my_range(1,10)\n",
    "print(list(a))\n",
    "\n",
    "# This will not run since once the iterator has been exhausted it cant be reiterated by loop \\\n",
    "# or by using next()\n",
    "\n",
    "#There are no more values to yield so it will not run\n",
    "for i in a:\n",
    "    print(i)\n",
    "\n",
    "#There are no more values to yield so it is empty array\n",
    "print(list(a)) "
   ]
  },
  {
   "cell_type": "code",
   "execution_count": 42,
   "metadata": {},
   "outputs": [],
   "source": [
    "from collections.abc import Iterator\n",
    "\n",
    "TDict = dict[str,object]\n",
    "\n",
    "def yield_func() -> Iterator[TDict]:\n",
    "    a:TDict = {}\n",
    "    b:TDict = {}\n",
    "    ...\n",
    "    yield a\n",
    "    yield b\n",
    "    "
   ]
  },
  {
   "cell_type": "code",
   "execution_count": 56,
   "metadata": {},
   "outputs": [
    {
     "name": "stdout",
     "output_type": "stream",
     "text": [
      "<map object at 0x7dbf8052c460>\n",
      "[0, 1, 4, 9, 16, 25, 36, 49, 64, 81]\n",
      "[]\n"
     ]
    }
   ],
   "source": [
    "# Generator function is many a times used in combination with \n",
    "# map , filter and reduce\n",
    "\n",
    "a = map(lambda x:x**2, range(0,10))\n",
    "print(a)\n",
    "print(list(a))\n",
    "#Since a is a generator function and all the values have been yielded so it will be empty list\n",
    "print(list(a))"
   ]
  },
  {
   "cell_type": "code",
   "execution_count": 58,
   "metadata": {},
   "outputs": [
    {
     "name": "stdout",
     "output_type": "stream",
     "text": [
      "(1, 2, 3) <class 'tuple'>\n"
     ]
    }
   ],
   "source": [
    "def abc(*nums):\n",
    "    print(nums,type(nums))\n",
    "abc(1,2,3\n",
    ")"
   ]
  },
  {
   "cell_type": "markdown",
   "metadata": {},
   "source": [
    "# Positional Argument vs Keyword Argument"
   ]
  },
  {
   "cell_type": "code",
   "execution_count": 62,
   "metadata": {},
   "outputs": [
    {
     "name": "stdout",
     "output_type": "stream",
     "text": [
      "num1 : 23\n",
      "num2 : 10\n",
      "num1 : 5\n",
      "num2 : 10\n"
     ]
    },
    {
     "data": {
      "text/plain": [
       "15"
      ]
     },
     "execution_count": 62,
     "metadata": {},
     "output_type": "execute_result"
    }
   ],
   "source": [
    "def sum_nums(num1:int, num2:int) -> int:\n",
    "    print(f\"num1 : {num1}\")\n",
    "    print(f\"num2 : {num2}\")\n",
    "    return num1+num2\n",
    "\n",
    "sum_nums(23,10) #positional arguments\n",
    "\n",
    "sum_nums(num2=10,num1=5) #keyword arguments , if you give keyword arguments, position dont matter"
   ]
  },
  {
   "cell_type": "code",
   "execution_count": 63,
   "metadata": {},
   "outputs": [],
   "source": [
    "#Unlimited Positional Arguments\n",
    "#Received as tuple\n",
    "def func(*nums):\n",
    "    ...\n",
    "\n",
    "#Unlimited keyword Arguments\n",
    "#Received a dictionary\n",
    "def func1(**kwargs):\n",
    "    ...\n",
    "    "
   ]
  },
  {
   "cell_type": "code",
   "execution_count": 66,
   "metadata": {},
   "outputs": [
    {
     "name": "stdout",
     "output_type": "stream",
     "text": [
      "{'a': 1, 'b': 2, 'c': 2, 'd': 4, 'e': 5} <class 'dict'>\n"
     ]
    }
   ],
   "source": [
    "def xyz(**kwargs):\n",
    "    print(kwargs,type(kwargs))\n",
    "\n",
    "xyz(a=1,b=2,c=2,d=4,e=5)"
   ]
  },
  {
   "cell_type": "code",
   "execution_count": 74,
   "metadata": {},
   "outputs": [
    {
     "name": "stdout",
     "output_type": "stream",
     "text": [
      "2 5 (12, 12, 13, 13, 1, 4, 15) {'x': 1, 'y': 2}\n"
     ]
    }
   ],
   "source": [
    "from typing import Tuple,Dict\n",
    "def my_func(a:int,b:int,*args:int,**kwargs:int) -> None:\n",
    "    print(a,b,args,kwargs)\n",
    "\n",
    "my_func(2,5,12,12,13,13,1,4,15,x=1,y=2)"
   ]
  },
  {
   "cell_type": "code",
   "execution_count": 71,
   "metadata": {},
   "outputs": [
    {
     "name": "stdout",
     "output_type": "stream",
     "text": [
      "('abc', 'der')\n"
     ]
    }
   ],
   "source": [
    "from typing import Tuple\n",
    "\n",
    "def greet(*args:int) -> None:\n",
    "    print(args)\n",
    "greet(\"abc\",\"der\")"
   ]
  },
  {
   "cell_type": "code",
   "execution_count": 73,
   "metadata": {},
   "outputs": [
    {
     "name": "stdout",
     "output_type": "stream",
     "text": [
      "{'a': 1, 'b': 2, 'c': 3}\n"
     ]
    }
   ],
   "source": [
    "\n",
    "def greet1(**kwargs: int) -> None:\n",
    "    print(kwargs)\n",
    "\n",
    "greet1(a=1,b=2,c=3)"
   ]
  },
  {
   "cell_type": "code",
   "execution_count": 75,
   "metadata": {},
   "outputs": [
    {
     "name": "stdout",
     "output_type": "stream",
     "text": [
      "Before Call\n",
      "12\n",
      "After CAll\n"
     ]
    }
   ],
   "source": [
    "from typing import Callable\n",
    "def outer_function(func:Callable[[int],None]) -> Callable[[int],None]:\n",
    "    def wrapper(num:int) -> None:\n",
    "        print(\"Before Call\")\n",
    "        func(num)\n",
    "        print(\"After CAll\")\n",
    "    return wrapper\n",
    "\n",
    "@outer_function\n",
    "def print_num(num:int):\n",
    "    print(num)\n",
    "\n",
    "print_num(12)\n"
   ]
  },
  {
   "cell_type": "code",
   "execution_count": null,
   "metadata": {},
   "outputs": [],
   "source": []
  }
 ],
 "metadata": {
  "kernelspec": {
   "display_name": "python3.12",
   "language": "python",
   "name": "python3"
  },
  "language_info": {
   "codemirror_mode": {
    "name": "ipython",
    "version": 3
   },
   "file_extension": ".py",
   "mimetype": "text/x-python",
   "name": "python",
   "nbconvert_exporter": "python",
   "pygments_lexer": "ipython3",
   "version": "3.12.0"
  }
 },
 "nbformat": 4,
 "nbformat_minor": 2
}
