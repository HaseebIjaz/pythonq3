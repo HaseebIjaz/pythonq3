{
 "cells": [
  {
   "cell_type": "markdown",
   "metadata": {},
   "source": [
    "# List iteration with loop"
   ]
  },
  {
   "cell_type": "code",
   "execution_count": 8,
   "metadata": {},
   "outputs": [
    {
     "name": "stdout",
     "output_type": "stream",
     "text": [
      "Haseeb\n",
      "Ijaz\n",
      "Sheikh\n",
      "Haseeb\n",
      "Ijaz\n",
      "Sheikh\n",
      "Haseeb\n",
      "Ijaz\n",
      "Sheikh\n"
     ]
    }
   ],
   "source": [
    "names: list[str] = [\"Haseeb\",\"Ijaz\", \"Sheikh\"]\n",
    "for name in names:\n",
    "    print(name)\n",
    "names_tuple: tuple[str,str,str] = (\"Haseeb\",\"Ijaz\",\"Sheikh\")\n",
    "\n",
    "for val in names_tuple:\n",
    "    print(val)\n",
    "\n",
    "i: int = 0\n",
    "while i<len(names_tuple):\n",
    "    print(names_tuple[i])\n",
    "    i+=1"
   ]
  },
  {
   "cell_type": "code",
   "execution_count": 9,
   "metadata": {},
   "outputs": [
    {
     "name": "stdout",
     "output_type": "stream",
     "text": [
      "h\n",
      "a\n",
      "s\n",
      "e\n",
      "e\n",
      "b\n"
     ]
    }
   ],
   "source": [
    "for i in \"haseeb\":\n",
    "    print(i)"
   ]
  },
  {
   "cell_type": "code",
   "execution_count": 12,
   "metadata": {},
   "outputs": [
    {
     "name": "stdout",
     "output_type": "stream",
     "text": [
      "blue\n",
      "white\n",
      "yellow\n",
      "gray\n",
      "purpule\n",
      "dark\n",
      "beige\n"
     ]
    }
   ],
   "source": [
    "colors: list[str] = ['red','green','orange','blue','white','yellow','gray','purpule','dark','beige']\n",
    "\n",
    "for color in colors[3:]:\n",
    "    print(color)\n"
   ]
  },
  {
   "cell_type": "code",
   "execution_count": 16,
   "metadata": {},
   "outputs": [
    {
     "name": "stdout",
     "output_type": "stream",
     "text": [
      "('username', 'pass')\n",
      "username pass\n",
      "username pass\n",
      "('user1', 'pass1')\n",
      "user1 pass1\n",
      "user1 pass1\n",
      "('user2', 'pass2')\n",
      "user2 pass2\n",
      "user2 pass2\n"
     ]
    }
   ],
   "source": [
    "database: list[tuple[str,str]] = [(\"username\",\"pass\"),(\"user1\",\"pass1\"),(\"user2\",\"pass2\")]\n",
    "for row in database:\n",
    "    print(row)\n",
    "    username,password = row\n",
    "    print(username,password)\n",
    "    print(*row)"
   ]
  },
  {
   "cell_type": "code",
   "execution_count": 19,
   "metadata": {},
   "outputs": [
    {
     "name": "stdout",
     "output_type": "stream",
     "text": [
      "Not found\n"
     ]
    }
   ],
   "source": [
    "input_user: str = input(\"Enter username\")\n",
    "input_pass: str = input(\"Enter password\")\n",
    "\n",
    "for row in database:\n",
    "    user,password = row\n",
    "    if input_user == user and input_pass == password:\n",
    "        print(\"Valid user\")\n",
    "        break\n",
    "else:\n",
    "    print(\"Not found\")"
   ]
  },
  {
   "cell_type": "markdown",
   "metadata": {},
   "source": [
    "# for else, while else, try catch else"
   ]
  },
  {
   "cell_type": "code",
   "execution_count": 21,
   "metadata": {},
   "outputs": [
    {
     "name": "stdout",
     "output_type": "stream",
     "text": [
      "0\n",
      "1\n",
      "2\n",
      "The else part prints after the loop has finished execution\n"
     ]
    }
   ],
   "source": [
    "for i in range(0,3):\n",
    "    print(i)\n",
    "else:\n",
    "    print(\"The else part prints after the loop has finished execution\")"
   ]
  },
  {
   "cell_type": "code",
   "execution_count": 23,
   "metadata": {},
   "outputs": [
    {
     "name": "stdout",
     "output_type": "stream",
     "text": [
      "0\n",
      "1\n",
      "2\n",
      "Else will not be executed since there is break keyword here and not the ieration is broken\n"
     ]
    }
   ],
   "source": [
    "for i in range(0,4):\n",
    "    print(i)\n",
    "    if i > 1:\n",
    "        print(\"Else will not be executed since there is break keyword here and not the ieration is broken\")\n",
    "        break\n",
    "else:\n",
    "    print(\"Else executed\")"
   ]
  },
  {
   "cell_type": "markdown",
   "metadata": {},
   "source": [
    "# Iteration variable is availble after the loop ends with the last value in the loop, so that we can place checks accordingly"
   ]
  },
  {
   "cell_type": "code",
   "execution_count": 25,
   "metadata": {},
   "outputs": [
    {
     "name": "stdout",
     "output_type": "stream",
     "text": [
      "0\n",
      "1\n",
      "2\n",
      "2\n"
     ]
    }
   ],
   "source": [
    "for i in range(0,3):\n",
    "    print(i)\n",
    "print(i)"
   ]
  },
  {
   "cell_type": "code",
   "execution_count": 26,
   "metadata": {},
   "outputs": [
    {
     "name": "stdout",
     "output_type": "stream",
     "text": [
      "0\n",
      "1\n",
      "2\n",
      "3\n"
     ]
    }
   ],
   "source": [
    "for i in range(0,5):\n",
    "    if i == 3:\n",
    "        break\n",
    "    print(i)\n",
    "print(i)"
   ]
  },
  {
   "cell_type": "code",
   "execution_count": 28,
   "metadata": {},
   "outputs": [
    {
     "name": "stdout",
     "output_type": "stream",
     "text": [
      "['haseeb', 'ijaz', 'sheikh']\n",
      "haseeb\n",
      "ijaz\n",
      "sheikh\n",
      "sheikh\n"
     ]
    }
   ],
   "source": [
    "names: list[str] = [\"haseeb\",\"ijaz\",\"sheikh\"]\n",
    "print(names)\n",
    "for name in names:\n",
    "    print(name)\n",
    "print(name)"
   ]
  },
  {
   "cell_type": "code",
   "execution_count": 29,
   "metadata": {},
   "outputs": [
    {
     "name": "stdout",
     "output_type": "stream",
     "text": [
      "Help on class range in module builtins:\n",
      "\n",
      "class range(object)\n",
      " |  range(stop) -> range object\n",
      " |  range(start, stop[, step]) -> range object\n",
      " |\n",
      " |  Return an object that produces a sequence of integers from start (inclusive)\n",
      " |  to stop (exclusive) by step.  range(i, j) produces i, i+1, i+2, ..., j-1.\n",
      " |  start defaults to 0, and stop is omitted!  range(4) produces 0, 1, 2, 3.\n",
      " |  These are exactly the valid indices for a list of 4 elements.\n",
      " |  When step is given, it specifies the increment (or decrement).\n",
      " |\n",
      " |  Methods defined here:\n",
      " |\n",
      " |  __bool__(self, /)\n",
      " |      True if self else False\n",
      " |\n",
      " |  __contains__(self, key, /)\n",
      " |      Return bool(key in self).\n",
      " |\n",
      " |  __eq__(self, value, /)\n",
      " |      Return self==value.\n",
      " |\n",
      " |  __ge__(self, value, /)\n",
      " |      Return self>=value.\n",
      " |\n",
      " |  __getattribute__(self, name, /)\n",
      " |      Return getattr(self, name).\n",
      " |\n",
      " |  __getitem__(self, key, /)\n",
      " |      Return self[key].\n",
      " |\n",
      " |  __gt__(self, value, /)\n",
      " |      Return self>value.\n",
      " |\n",
      " |  __hash__(self, /)\n",
      " |      Return hash(self).\n",
      " |\n",
      " |  __iter__(self, /)\n",
      " |      Implement iter(self).\n",
      " |\n",
      " |  __le__(self, value, /)\n",
      " |      Return self<=value.\n",
      " |\n",
      " |  __len__(self, /)\n",
      " |      Return len(self).\n",
      " |\n",
      " |  __lt__(self, value, /)\n",
      " |      Return self<value.\n",
      " |\n",
      " |  __ne__(self, value, /)\n",
      " |      Return self!=value.\n",
      " |\n",
      " |  __reduce__(...)\n",
      " |      Helper for pickle.\n",
      " |\n",
      " |  __repr__(self, /)\n",
      " |      Return repr(self).\n",
      " |\n",
      " |  __reversed__(...)\n",
      " |      Return a reverse iterator.\n",
      " |\n",
      " |  count(...)\n",
      " |      rangeobject.count(value) -> integer -- return number of occurrences of value\n",
      " |\n",
      " |  index(...)\n",
      " |      rangeobject.index(value) -> integer -- return index of value.\n",
      " |      Raise ValueError if the value is not present.\n",
      " |\n",
      " |  ----------------------------------------------------------------------\n",
      " |  Static methods defined here:\n",
      " |\n",
      " |  __new__(*args, **kwargs) from builtins.type\n",
      " |      Create and return a new object.  See help(type) for accurate signature.\n",
      " |\n",
      " |  ----------------------------------------------------------------------\n",
      " |  Data descriptors defined here:\n",
      " |\n",
      " |  start\n",
      " |\n",
      " |  step\n",
      " |\n",
      " |  stop\n",
      "\n"
     ]
    }
   ],
   "source": [
    "help(range)"
   ]
  },
  {
   "cell_type": "markdown",
   "metadata": {},
   "source": [
    "# Generator Functions"
   ]
  },
  {
   "cell_type": "code",
   "execution_count": 31,
   "metadata": {},
   "outputs": [
    {
     "data": {
      "text/plain": [
       "'Genertor function aisaa function hota hai kayy jiss koo call karnay par\\n voo execute nai hota uss kii bajayye voo aikk object return karta hai\\n   aur voo object iss qabil hota hai kayy sequence generate kar sakay ,\\n     yehh object iterable bhi hota hai aur iterator hota hai\\n    joo kayy sequence koo generate karnay kay qabil hota hai . \\n    Iss kaa sabb sayy bara faida yehh hai kayy 1 go mainn pora sequence generate nai hota ,\\n      one by one on demand values koo generate kia jata hai \\n    jis kii  wajha sayy memoery effieiciency parr drasticlly farq parta hai \\n    aur memory mainn utni hii memory occuupy hoti hai j\\n    itni kayy aik sequency kii value koo generate karnay kay liye chahiye, \\n    iss kayy muqablay agr list koo dekhein too uss kii tamam vlues joo hainn voo memory koo ocuupy kar leti hainn. \\n\\niss mainn return kii bajaye yield kaa keyword use hota hai \\naur yehh next() function kayy call karnay par sequence kii next value koo generate karta hai \\naur iss bat kaa track rakhta hai kayy kitni bar yield call hoo chuka hai , \\ngenerator kaa object directly iterable hota hai .'"
      ]
     },
     "execution_count": 31,
     "metadata": {},
     "output_type": "execute_result"
    }
   ],
   "source": [
    "\"\"\"Genertor function aisaa function hota hai kayy jiss koo call karnay par\n",
    " voo execute nai hota uss kii bajayye voo aikk object return karta hai\n",
    "   aur voo object iss qabil hota hai kayy sequence generate kar sakay ,\n",
    "     yehh object iterable bhi hota hai aur iterator hota hai\n",
    "    joo kayy sequence koo generate karnay kay qabil hota hai . \n",
    "    Iss kaa sabb sayy bara faida yehh hai kayy 1 go mainn pora sequence generate nai hota ,\n",
    "      one by one on demand values koo generate kia jata hai \n",
    "    jis kii  wajha sayy memoery effieiciency parr drasticlly farq parta hai \n",
    "    aur memory mainn utni hii memory occuupy hoti hai j\n",
    "    itni kayy aik sequency kii value koo generate karnay kay liye chahiye, \n",
    "    iss kayy muqablay agr list koo dekhein too uss kii tamam vlues joo hainn voo memory koo ocuupy kar leti hainn. \n",
    "\n",
    "iss mainn return kii bajaye yield kaa keyword use hota hai \n",
    "aur yehh next() function kayy call karnay par sequence kii next value koo generate karta hai \n",
    "aur iss bat kaa track rakhta hai kayy kitni bar yield call hoo chuka hai , \n",
    "generator kaa object directly iterable hota hai .\"\"\"\n",
    "\n"
   ]
  },
  {
   "cell_type": "code",
   "execution_count": 32,
   "metadata": {},
   "outputs": [],
   "source": [
    "#Generato function since it contains yield instead of a return statement\n",
    "def generator_name():\n",
    "    yield 1\n",
    "\n",
    "\n"
   ]
  },
  {
   "cell_type": "code",
   "execution_count": 33,
   "metadata": {},
   "outputs": [
    {
     "name": "stdout",
     "output_type": "stream",
     "text": [
      "0\n",
      "1\n",
      "2\n",
      "3\n",
      "4\n",
      "5\n",
      "6\n",
      "7\n",
      "8\n",
      "9\n"
     ]
    }
   ],
   "source": [
    "def my_generator(n:int):\n",
    "    value :int = 0\n",
    "\n",
    "    while value < n:\n",
    "        yield value\n",
    "        value += 1\n",
    "\n",
    "for val in my_generator(10):\n",
    "    print(val)"
   ]
  },
  {
   "cell_type": "code",
   "execution_count": 35,
   "metadata": {},
   "outputs": [
    {
     "name": "stdout",
     "output_type": "stream",
     "text": [
      "0\n",
      "1\n",
      "TWO values printed\n",
      "2\n",
      "3\n",
      "4\n",
      "5\n"
     ]
    }
   ],
   "source": [
    "generator_obj = my_generator(6)\n",
    "print(next(generator_obj))\n",
    "print(next(generator_obj))\n",
    "\n",
    "print(\"TWO values printed\")\n",
    "\n",
    "for val in generator_obj:\n",
    "    print(val)"
   ]
  },
  {
   "cell_type": "code",
   "execution_count": 39,
   "metadata": {},
   "outputs": [
    {
     "name": "stdout",
     "output_type": "stream",
     "text": [
      "0\n",
      "1\n",
      "2\n",
      "3\n",
      "4\n",
      "range(0, 4)\n"
     ]
    },
    {
     "ename": "TypeError",
     "evalue": "'range' object is not an iterator",
     "output_type": "error",
     "traceback": [
      "\u001b[0;31m---------------------------------------------------------------------------\u001b[0m",
      "\u001b[0;31mTypeError\u001b[0m                                 Traceback (most recent call last)",
      "Cell \u001b[0;32mIn[39], line 23\u001b[0m\n\u001b[1;32m     20\u001b[0m \u001b[38;5;28mprint\u001b[39m(range_generator)\n\u001b[1;32m     22\u001b[0m \u001b[38;5;66;03m#Will throw an error since range object is not an iterator since it has not implemented __next__ function\u001b[39;00m\n\u001b[0;32m---> 23\u001b[0m \u001b[38;5;28mprint\u001b[39m(\u001b[38;5;28;43mnext\u001b[39;49m\u001b[43m(\u001b[49m\u001b[43mrange_generator\u001b[49m\u001b[43m)\u001b[49m)\n\u001b[1;32m     24\u001b[0m \u001b[38;5;28mprint\u001b[39m(\u001b[38;5;28mnext\u001b[39m(range_generator))\n\u001b[1;32m     25\u001b[0m \u001b[38;5;28mprint\u001b[39m(\u001b[38;5;28mnext\u001b[39m(range_generator))\n",
      "\u001b[0;31mTypeError\u001b[0m: 'range' object is not an iterator"
     ]
    }
   ],
   "source": [
    "# range() is also lkee a generator function but not exactly\n",
    "# and for in loop iterates over the range object returned by it\n",
    "# range object does is not an iterator , it only returns an iterable ,\n",
    "# meaning that we can iterate over it via a for in loop \n",
    "\n",
    "#For Every Iterable -> We can use a for  .. in loop\n",
    "# We can iterate over every iterable like Set, Dictionary, list, Map, tuple, genertor objects, range objects\n",
    "\n",
    "#For every iterator we can all next() function on its object since it omplements __next__ function\n",
    "#For every iterato -> next(iterator_object)\n",
    "\n",
    "#Genertor object is both iterable and iterator\n",
    "#range object is only iterable and not iterator\n",
    "\n",
    "\n",
    "for i in range(5):\n",
    "    print(i)\n",
    "\n",
    "range_generator = range(4)\n",
    "print(range_generator)\n",
    "\n",
    "#Will throw an error since range object is not an iterator since it has not implemented __next__ function\n",
    "print(next(range_generator))\n",
    "print(next(range_generator))\n",
    "print(next(range_generator))"
   ]
  },
  {
   "cell_type": "code",
   "execution_count": 48,
   "metadata": {},
   "outputs": [
    {
     "name": "stdout",
     "output_type": "stream",
     "text": [
      "a\n",
      "b\n",
      "2\n",
      "a\n",
      "b\n",
      "2\n",
      "a\n",
      "b\n",
      "2\n"
     ]
    }
   ],
   "source": [
    "#Generator function koo chalanay kayy liye uss parr yaa too iteration perform karni paray gii yaa next koo call karna paray gaa\n",
    "# For running the body of a generator function \n",
    "# you have to use for in loop which is used for iteratining over iterables \n",
    "#Or you have to use the next() on the generator object since it is also an iterator since it implements __next__() function\n",
    "\n",
    "#Dunder method next() -> __next__(self)\n",
    "#Dunder method iter() -> __iter__(self)\n",
    "#Dunder method len() -> __len__(self)\n",
    "#Dunder method str() -> __str__(self)\n",
    "\n",
    "def gen_even():\n",
    "    print(\"a\")\n",
    "    i:int =0\n",
    "    while True:\n",
    "        print(\"b\")\n",
    "        i = i + 2\n",
    "        yield i\n",
    "        i = i + 2\n",
    "        print(\"c\")\n",
    "\n",
    "\n",
    "print(next(gen_even()))\n",
    "\n",
    "print(next(gen_even()))\n",
    "print(next(gen_even()))\n",
    "\n"
   ]
  },
  {
   "cell_type": "code",
   "execution_count": 51,
   "metadata": {},
   "outputs": [
    {
     "name": "stdout",
     "output_type": "stream",
     "text": [
      "a\n",
      "b\n",
      "2\n",
      "c\n",
      "b\n",
      "6\n",
      "c\n",
      "b\n",
      "10\n",
      "<generator object gen_even at 0x7314d0163f40>\n"
     ]
    },
    {
     "ename": "NameError",
     "evalue": "name 'generator_obj' is not defined",
     "output_type": "error",
     "traceback": [
      "\u001b[0;31m---------------------------------------------------------------------------\u001b[0m",
      "\u001b[0;31mNameError\u001b[0m                                 Traceback (most recent call last)",
      "Cell \u001b[0;32mIn[51], line 20\u001b[0m\n\u001b[1;32m     18\u001b[0m \u001b[38;5;28mprint\u001b[39m(generator_obj)\n\u001b[1;32m     19\u001b[0m \u001b[38;5;28;01mdel\u001b[39;00m generator_obj\n\u001b[0;32m---> 20\u001b[0m \u001b[38;5;28mprint\u001b[39m(\u001b[43mgenerator_obj\u001b[49m)\n",
      "\u001b[0;31mNameError\u001b[0m: name 'generator_obj' is not defined"
     ]
    }
   ],
   "source": [
    "def gen_even():\n",
    "    print(\"a\")\n",
    "    i:int =0\n",
    "    while True:\n",
    "        print(\"b\")\n",
    "        i = i + 2\n",
    "        yield i\n",
    "        i = i + 2\n",
    "        print(\"c\")\n",
    "\n",
    "\n",
    "generator_obj = gen_even()\n",
    "\n",
    "print(next(generator_obj))\n",
    "print(next(generator_obj))\n",
    "print(next(generator_obj))\n",
    "\n",
    "print(generator_obj)\n",
    "del generator_obj\n",
    "print(generator_obj)\n",
    "\n"
   ]
  },
  {
   "cell_type": "code",
   "execution_count": 55,
   "metadata": {},
   "outputs": [
    {
     "name": "stdout",
     "output_type": "stream",
     "text": [
      "0\n",
      "1\n",
      "2\n",
      "3\n",
      "4\n",
      "5\n",
      "6\n",
      "7\n",
      "8\n",
      "9\n",
      "9\n"
     ]
    },
    {
     "ename": "TypeError",
     "evalue": "'range' object is not an iterator",
     "output_type": "error",
     "traceback": [
      "\u001b[0;31m---------------------------------------------------------------------------\u001b[0m",
      "\u001b[0;31mTypeError\u001b[0m                                 Traceback (most recent call last)",
      "Cell \u001b[0;32mIn[55], line 5\u001b[0m\n\u001b[1;32m      3\u001b[0m     \u001b[38;5;28mprint\u001b[39m(i)\n\u001b[1;32m      4\u001b[0m \u001b[38;5;28mprint\u001b[39m(i)\n\u001b[0;32m----> 5\u001b[0m \u001b[38;5;28mprint\u001b[39m(\u001b[38;5;28;43mnext\u001b[39;49m\u001b[43m(\u001b[49m\u001b[43mrange_obj\u001b[49m\u001b[43m)\u001b[49m) \u001b[38;5;66;03m#It will give error since range object is not an iterator\u001b[39;00m\n",
      "\u001b[0;31mTypeError\u001b[0m: 'range' object is not an iterator"
     ]
    }
   ],
   "source": [
    "range_obj = range(10)\n",
    "for i in range_obj:\n",
    "    print(i)\n",
    "print(i)\n",
    "print(next(range_obj)) #It will give error since range object is not an iterator"
   ]
  },
  {
   "cell_type": "markdown",
   "metadata": {},
   "source": [
    "# Generator Expressions"
   ]
  },
  {
   "cell_type": "markdown",
   "metadata": {},
   "source": [
    "* Generator Expression Creates a Generator Object\n",
    "* List Comprehension Creates Lists\n",
    "\n",
    "* Syntax (expression for item in iterable)"
   ]
  },
  {
   "cell_type": "code",
   "execution_count": 76,
   "metadata": {},
   "outputs": [
    {
     "name": "stdout",
     "output_type": "stream",
     "text": [
      "0\n",
      "1\n"
     ]
    }
   ],
   "source": [
    "gen = (i for i in range(5)) # here i is yeilded\n",
    "\n",
    "\n",
    "\n",
    "# for i in gen:\n",
    "#     print(i)\n",
    "\n",
    "print(next(gen))\n",
    "print(next(gen))"
   ]
  },
  {
   "cell_type": "markdown",
   "metadata": {},
   "source": [
    "# Chaining Generators Together"
   ]
  },
  {
   "cell_type": "code",
   "execution_count": 75,
   "metadata": {},
   "outputs": [
    {
     "name": "stdout",
     "output_type": "stream",
     "text": [
      "14\n",
      "<generator object even_gen at 0x7314cbfeb850>\n",
      "34\n"
     ]
    }
   ],
   "source": [
    "# Generator kaa mental model humein as a list sochna chahiye joo kayy generate hoo sakti hai\n",
    "# Aur on the fly iss koo pass kia jaa sakta hai , \n",
    "# iss kaa matlab hai kayy list koo create karnay kii zarurat nai hai\n",
    "# uss kii jagha app koo chahiye kayy app generators banayein aur uss koo functions kooo pass karein\n",
    "# it will be more memory efficient\n",
    "# Generator is both an iterator and an iterable\n",
    "\n",
    "def square_gen(n:int):\n",
    "    for i in range(n):\n",
    "        yield (i+1)**2\n",
    "\n",
    "print(sum(square_gen(3))) # Sum accepts iterable , so it also worked for the generator object\n",
    "\n",
    "def even_gen(nums):\n",
    "    for i in nums:\n",
    "        yield (i + 1) *2\n",
    "\n",
    "print(even_gen(square_gen(3)))\n",
    "\n",
    "print(sum(even_gen(square_gen(3))))\n"
   ]
  },
  {
   "cell_type": "markdown",
   "metadata": {},
   "source": [
    "# Iterator Example"
   ]
  },
  {
   "cell_type": "code",
   "execution_count": 78,
   "metadata": {},
   "outputs": [],
   "source": [
    "class PowTow:\n",
    "    def __init__(self,max:int =0):\n",
    "        self.n = 0\n",
    "        self.max = max\n",
    "    def __iter__(self):\n",
    "        return self\n",
    "    def __next__(self):\n",
    "        if self.n > self.max:\n",
    "            raise StopIteration\n",
    "        result: int = 2 ** self.n\n",
    "        self.n = self.n + 1\n",
    "        return result\n",
    "\n",
    "\n",
    "def pow_two_gen(max:int = 0):\n",
    "    for i in range(max):\n",
    "        yield 2**i\n",
    "\n"
   ]
  },
  {
   "cell_type": "code",
   "execution_count": 87,
   "metadata": {},
   "outputs": [
    {
     "name": "stdout",
     "output_type": "stream",
     "text": [
      "[4, 5, 6, 7, 8, 9]\n",
      "[1, 2, 4, 8, 16]\n",
      "['a']\n"
     ]
    }
   ],
   "source": [
    "#List reveives an iterable\n",
    "list1: list[int] = list(range(4))\n",
    "list2: list[int] = list(range(4,10))\n",
    "list3: list[int] = list(range(3,15,3))\n",
    "print(list2)\n",
    "\n",
    "def pow_two_gen(max:int = 0):\n",
    "    for i in range(max):\n",
    "        yield 2**i\n",
    "list4 = list(pow_two_gen(5)) \n",
    "\n",
    "print(list4)\n",
    "\n",
    "list5 = list({\"a\":2})\n",
    "print(list5)"
   ]
  },
  {
   "cell_type": "code",
   "execution_count": 88,
   "metadata": {},
   "outputs": [
    {
     "name": "stdout",
     "output_type": "stream",
     "text": [
      "2\n",
      "4\n",
      "6\n",
      "8\n"
     ]
    }
   ],
   "source": [
    "for i in range(2,10,2):\n",
    "    print(i)"
   ]
  },
  {
   "cell_type": "code",
   "execution_count": 89,
   "metadata": {},
   "outputs": [
    {
     "data": {
      "text/plain": [
       "<list_iterator at 0x7314d11273d0>"
      ]
     },
     "execution_count": 89,
     "metadata": {},
     "output_type": "execute_result"
    }
   ],
   "source": [
    "iter([12,3])"
   ]
  },
  {
   "cell_type": "code",
   "execution_count": 92,
   "metadata": {},
   "outputs": [
    {
     "data": {
      "text/plain": [
       "['__bool__',\n",
       " '__class__',\n",
       " '__contains__',\n",
       " '__delattr__',\n",
       " '__dir__',\n",
       " '__doc__',\n",
       " '__eq__',\n",
       " '__format__',\n",
       " '__ge__',\n",
       " '__getattribute__',\n",
       " '__getitem__',\n",
       " '__getstate__',\n",
       " '__gt__',\n",
       " '__hash__',\n",
       " '__init__',\n",
       " '__init_subclass__',\n",
       " '__iter__',\n",
       " '__le__',\n",
       " '__len__',\n",
       " '__lt__',\n",
       " '__ne__',\n",
       " '__new__',\n",
       " '__reduce__',\n",
       " '__reduce_ex__',\n",
       " '__repr__',\n",
       " '__reversed__',\n",
       " '__setattr__',\n",
       " '__sizeof__',\n",
       " '__str__',\n",
       " '__subclasshook__',\n",
       " 'count',\n",
       " 'index',\n",
       " 'start',\n",
       " 'step',\n",
       " 'stop']"
      ]
     },
     "execution_count": 92,
     "metadata": {},
     "output_type": "execute_result"
    }
   ],
   "source": [
    "dir(range)"
   ]
  },
  {
   "cell_type": "markdown",
   "metadata": {},
   "source": [
    "# Iterable vs Iterator"
   ]
  },
  {
   "cell_type": "code",
   "execution_count": 94,
   "metadata": {},
   "outputs": [],
   "source": [
    "#__iter__() should be implemented for iterable\n",
    "#__iter__() and __next__() should be implemented for iterator\n",
    "# __iter__() = iterable\n",
    "# __iter__() + __next__() = iterator\n",
    "# iterable + __next__() = iterator \n",
    "\n",
    "#iter() function returns the iterator but note that its corresponding dunder function \n",
    "# or magic function is not __iter__(), it should not be confused"
   ]
  },
  {
   "cell_type": "code",
   "execution_count": 96,
   "metadata": {},
   "outputs": [
    {
     "data": {
      "text/plain": [
       "34"
      ]
     },
     "execution_count": 96,
     "metadata": {},
     "output_type": "execute_result"
    }
   ],
   "source": [
    "# Iter will return at iterator however\n",
    "next(iter([34,3,4]))"
   ]
  },
  {
   "cell_type": "code",
   "execution_count": 99,
   "metadata": {},
   "outputs": [
    {
     "data": {
      "text/plain": [
       "'\\nIterator Protocol: An iterator in Python implements two methods: __iter__() and __next__().\\n\\n    __iter__() returns the iterator object itself.\\n    __next__() retrieves the next item from the iterator.\\n'"
      ]
     },
     "execution_count": 99,
     "metadata": {},
     "output_type": "execute_result"
    }
   ],
   "source": [
    "# Iterators and Generators are both same\n",
    "# Generators are special type of iterators\n",
    "# Both do lazy evaluation of values\n",
    "# Both generate values on the fly\n",
    "# Generator is also an iterator\n",
    "\n",
    "#enerators are often more memory efficient because they generate values on-the-fly\n",
    "#  and do not store the entire sequence in memory, \n",
    "# whereas traditional iterators (especially if not designed carefully) may store all values in memory.\n",
    "\n",
    "\"\"\"\n",
    "Iterator Protocol: An iterator in Python implements two methods: __iter__() and __next__().\n",
    "\n",
    "    __iter__() returns the iterator object itself.\n",
    "    __next__() retrieves the next item from the iterator.\n",
    "\"\"\""
   ]
  },
  {
   "cell_type": "markdown",
   "metadata": {},
   "source": [
    "# Enumerate in Python"
   ]
  },
  {
   "cell_type": "code",
   "execution_count": 117,
   "metadata": {},
   "outputs": [
    {
     "name": "stdout",
     "output_type": "stream",
     "text": [
      "<enumerate object at 0x7314cb5b7380>\n",
      "(0, 345)\n",
      "(1, 4234)\n",
      "(2, 432423)\n",
      "0 345\n",
      "1 4234\n",
      "2 432423\n",
      "-----------------==============\n",
      "3 345\n",
      "4 4234\n",
      "5 432423\n",
      "1\n",
      "2\n",
      "4\n",
      "5\n",
      "1\n",
      "34\n",
      "4\n",
      "1\n",
      "34\n",
      "4\n",
      "printing range -------------\n",
      "0\n",
      "1\n",
      "2\n",
      "3\n",
      "4\n",
      "0\n",
      "1\n",
      "2\n",
      "3\n",
      "4\n"
     ]
    }
   ],
   "source": [
    "# Jab app python mainn iterators sayy deal karr rahay hotay hainn\n",
    "# Too app chahtay hainn kayy voo app koo just value naa return karay\n",
    "# Appp chahtay hainn kayy uss kayy sathh app yehh track rakh sakein kayy\n",
    "# kay konsi index hai abb yaa phir kitna count hoo chuka hai abb\n",
    "# Iss Maqsad kayy liye app enumerate koo use kartay hainn\n",
    "# Yehh app kii value koo aik tuple bana deta hai\n",
    "#  aur uss kayy pehlay index par count yaa index rakhh deta hai \n",
    "\n",
    "print(enumerate([345,4234,432423]))\n",
    "enumerate_obj = enumerate([345,4234,432423])\n",
    "for val_tuple in enumerate_obj:\n",
    "    print(val_tuple)\n",
    "\n",
    "print(\"-----------------==============\")\n",
    "\n",
    "# enumerate_obj = enumerate([345,4234,432423])\n",
    "\n",
    "for index,val in enumerate([345,4234,432423]):\n",
    "    print(index,val)\n",
    "\n",
    "print(\"-----------------==============\")\n",
    "for index,val in enumerate([345,4234,432423],start=3):\n",
    "    print(index,val)\n",
    "\n"
   ]
  },
  {
   "cell_type": "code",
   "execution_count": 120,
   "metadata": {},
   "outputs": [
    {
     "name": "stdout",
     "output_type": "stream",
     "text": [
      "1\n",
      "2\n",
      "4\n",
      "5\n",
      "second loop\n",
      "--------------------------------------------------------------------------------\n",
      "printing range -------------\n",
      "0\n",
      "1\n",
      "2\n",
      "3\n",
      "4\n",
      "0\n",
      "1\n",
      "2\n",
      "3\n",
      "4\n"
     ]
    }
   ],
   "source": [
    "#Once Exhasusted , the iterator object cannot be iterated over again\n",
    "#Iterator kayy object parr aikk bar hii iteration chal sati hai\n",
    "# DObara iteration karni hai too apko aikk new iterator object baana paray gaa\n",
    "# yaa phir uss iterator koo list mainn convert karr kayy reiterate kar lein \n",
    "\n",
    "a = iter([1,2,4,5])\n",
    "for i in a:\n",
    "    print(i)\n",
    "\n",
    "# THis second loop does not execute since the iterator has already been exhausted\n",
    "\n",
    "print(\"second loop\")\n",
    "for i in a:\n",
    "    print(i)\n",
    "\n",
    "print(\"--------------------------------------------------------------------------------\")\n",
    "\n",
    "\n",
    "range_obj= range(5)\n",
    "\n",
    "print(\"printing range -------------\")\n",
    "\n",
    "for i in range_obj:\n",
    "    print(i)\n",
    "\n",
    "# THis second loop will work and run since range object is not an iterator,\n",
    "#Range object is just an iterable\n",
    "\n",
    "for i in range_obj:\n",
    "    print(i)\n"
   ]
  },
  {
   "cell_type": "code",
   "execution_count": 129,
   "metadata": {},
   "outputs": [
    {
     "name": "stdout",
     "output_type": "stream",
     "text": [
      "0 23\n",
      "1 45\n",
      "2 67\n",
      "THe second loop will not execute since the iterator has been exhasuted\n",
      "5 2367\n",
      "6 123\n",
      "7 32321\n",
      "(5, 2367)\n",
      "(6, 123)\n",
      "(7, 32321)\n"
     ]
    }
   ],
   "source": [
    "#Enumerate function returns an enuerate object which is an iterator\n",
    "#Jis kaa matlab hai kayy iss object par aikk hii bar iteration perform ki ja sakti hai \n",
    "# Enumerate kay zariye jubb humm iterate kartay hainn too humein tuple milta hai \n",
    "# Tuple kayy first index par index hoti hai ya count \n",
    "# aur second index par value hoti hai \n",
    "\n",
    "enumerate_obj = enumerate([23,45,67])\n",
    "for index,val in enumerate_obj:\n",
    "   print(index,val)\n",
    "\n",
    "print(\"THe second loop will not execute since the iterator has been exhasuted\")\n",
    "for index,val in enumerate_obj:\n",
    "   print(index,val)\n",
    "\n",
    "enumerate_obj = enumerate([2367,123,32321],start=5)\n",
    "for index,val in enumerate_obj:\n",
    "   print(index,val)\n",
    "\n",
    "enumerate_obj = enumerate([2367,123,32321],start=5)\n",
    "for val_tup in enumerate_obj:\n",
    "   print(val_tup)\n",
    "   "
   ]
  },
  {
   "cell_type": "code",
   "execution_count": 131,
   "metadata": {},
   "outputs": [
    {
     "name": "stdout",
     "output_type": "stream",
     "text": [
      "0 X 2 = 0\n",
      "1 X 2 = 2\n",
      "2 X 2 = 4\n",
      "3 X 2 = 6\n",
      "4 X 2 = 8\n",
      "5 X 2 = 10\n",
      "6 X 2 = 12\n",
      "7 X 2 = 14\n",
      "8 X 2 = 16\n",
      "9 X 2 = 18\n",
      "10 X 2 = 20\n"
     ]
    }
   ],
   "source": [
    "for i in range(11):\n",
    "    print(f'{i} X {2} = {i*2}')"
   ]
  },
  {
   "cell_type": "code",
   "execution_count": 132,
   "metadata": {},
   "outputs": [
    {
     "name": "stdout",
     "output_type": "stream",
     "text": [
      "[1, 4, 9, 16, 25, 36, 49, 64, 81, 100]\n"
     ]
    }
   ],
   "source": [
    "squares: list[int] = []\n",
    "for i in range(1,11):\n",
    "    square = i ** 2\n",
    "    squares.append(square)\n",
    "print(squares)"
   ]
  },
  {
   "cell_type": "code",
   "execution_count": null,
   "metadata": {},
   "outputs": [],
   "source": []
  }
 ],
 "metadata": {
  "kernelspec": {
   "display_name": "python3.12",
   "language": "python",
   "name": "python3"
  },
  "language_info": {
   "codemirror_mode": {
    "name": "ipython",
    "version": 3
   },
   "file_extension": ".py",
   "mimetype": "text/x-python",
   "name": "python",
   "nbconvert_exporter": "python",
   "pygments_lexer": "ipython3",
   "version": "3.12.0"
  }
 },
 "nbformat": 4,
 "nbformat_minor": 2
}
