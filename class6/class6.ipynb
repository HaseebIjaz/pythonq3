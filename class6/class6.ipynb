{
 "cells": [
  {
   "cell_type": "code",
   "execution_count": 2,
   "metadata": {},
   "outputs": [
    {
     "data": {
      "text/plain": [
       "'\\nif-else comprehension\\n\\nTrue_block if condition else False_block\\n'"
      ]
     },
     "execution_count": 2,
     "metadata": {},
     "output_type": "execute_result"
    }
   ],
   "source": [
    "\"\"\"\n",
    "if condition:\n",
    "   True_block\n",
    "else:\n",
    "   False_block\n",
    "\"\"\"\n",
    "\n",
    "\"\"\"\n",
    "if-else comprehension\n",
    "\n",
    "True_block if condition else False_block\n",
    "\"\"\""
   ]
  },
  {
   "cell_type": "code",
   "execution_count": 3,
   "metadata": {},
   "outputs": [
    {
     "name": "stdout",
     "output_type": "stream",
     "text": [
      "True Block\n"
     ]
    }
   ],
   "source": [
    "print(\"True Block\") if True else print(\"False Block\")"
   ]
  },
  {
   "cell_type": "code",
   "execution_count": 4,
   "metadata": {},
   "outputs": [
    {
     "name": "stdout",
     "output_type": "stream",
     "text": [
      "<class 'float'>\n"
     ]
    }
   ],
   "source": [
    "from typing import Union \n",
    "grade: Union[int,float] = 1.0\n",
    "print(type(grade))"
   ]
  },
  {
   "cell_type": "code",
   "execution_count": 5,
   "metadata": {},
   "outputs": [
    {
     "name": "stdout",
     "output_type": "stream",
     "text": [
      "<class 'int'>\n"
     ]
    }
   ],
   "source": [
    "from typing import Union \n",
    "grade: Union[int,float] = 1\n",
    "print(type(grade))"
   ]
  },
  {
   "cell_type": "code",
   "execution_count": 9,
   "metadata": {},
   "outputs": [
    {
     "name": "stdout",
     "output_type": "stream",
     "text": [
      "B\n",
      "Score is 22.5\n"
     ]
    }
   ],
   "source": [
    "from typing import Union, Optional\n",
    "\n",
    "score:Union[int,float] = 22.5\n",
    "score1: int | float = 22.4\n",
    "score2: Optional[int] = None # If you place no data type by default it will be None for OPtional Keyword\n",
    "if score > 90:\n",
    "    print(\"A\")\n",
    "elif score > 20:\n",
    "    print(\"B\")\n",
    "else:\n",
    "    print(\"C\")\n",
    "\n",
    "print(f\"Score is {score}\")"
   ]
  },
  {
   "cell_type": "markdown",
   "metadata": {},
   "source": [
    "# Alias Type in Python\n",
    "# Custom Type in Python \n",
    "\n",
    "\n"
   ]
  },
  {
   "cell_type": "code",
   "execution_count": 10,
   "metadata": {},
   "outputs": [],
   "source": [
    "TScore = Union[int,float]\n",
    "scores: list[TScore] = [1,2,4.3]"
   ]
  },
  {
   "cell_type": "markdown",
   "metadata": {},
   "source": [
    "# Zip function is an object\n",
    "# It returns a generator object\n",
    "# It takes two lists of equal lengths and zips them together\n",
    "\n",
    "# Zip function is very important in case of Databases"
   ]
  },
  {
   "cell_type": "code",
   "execution_count": 2,
   "metadata": {},
   "outputs": [
    {
     "data": {
      "text/plain": [
       "[(2, 'a', 0), (5, 'g', 1), (7, 'e', 2), (8, 'e', 3), (9, '3', 4)]"
      ]
     },
     "execution_count": 2,
     "metadata": {},
     "output_type": "execute_result"
    }
   ],
   "source": [
    "nums:list[int] = [2,5,7,8,9]\n",
    "alphas:list[str] = [\"a\",\"g\",\"e\",\"e\",\"3\"]\n",
    "zip_obj = zip(nums,alphas,range(len(nums)))\n",
    "list(zip_obj)"
   ]
  },
  {
   "cell_type": "code",
   "execution_count": 11,
   "metadata": {},
   "outputs": [
    {
     "name": "stdout",
     "output_type": "stream",
     "text": [
      "[1, 2, 3, 4, 5]\n",
      "[(1, 2, 'a'), (2, 5, 'g'), (3, 7, 'e'), (4, 8, 'e'), (5, 9, '3')]\n"
     ]
    }
   ],
   "source": [
    "roll_no: list[int] = list(range(1,6))\n",
    "print(roll_no)\n",
    "database = list(zip(roll_no,nums,alphas))\n",
    "print(database)"
   ]
  },
  {
   "cell_type": "code",
   "execution_count": 16,
   "metadata": {},
   "outputs": [
    {
     "name": "stdout",
     "output_type": "stream",
     "text": [
      "[(5, 9, '3'), (1, 2, 'a'), (3, 7, 'e'), (4, 8, 'e'), (2, 5, 'g')]\n"
     ]
    }
   ],
   "source": [
    "#Sorted Global Function\n",
    "sorted(database)\n",
    "print(sorted(database, key=lambda x:x[2])) #sorted according to the third index of the tuple, here x is the tuple"
   ]
  },
  {
   "cell_type": "code",
   "execution_count": 17,
   "metadata": {},
   "outputs": [
    {
     "name": "stdout",
     "output_type": "stream",
     "text": [
      "[(2, 5, 'g'), (3, 7, 'e'), (4, 8, 'e'), (1, 2, 'a'), (5, 9, '3')]\n"
     ]
    }
   ],
   "source": [
    "#Sorted Global Function\n",
    "sorted(database)\n",
    "print(sorted(database, key=lambda x:x[2], reverse=True)) #sorted according to the third index of the tuple, here x is the tuple"
   ]
  },
  {
   "cell_type": "code",
   "execution_count": 27,
   "metadata": {},
   "outputs": [
    {
     "name": "stdout",
     "output_type": "stream",
     "text": [
      "BMW\n",
      "toyota\n",
      "Suzuki\n",
      "Audi\n",
      "True\n"
     ]
    }
   ],
   "source": [
    "cars: list[int] = ['bmw','toyota','suzuki','audi']\n",
    "for car in cars:\n",
    "    if car == 'bmw':\n",
    "        print(car.upper())\n",
    "    elif car == 'toyota' :\n",
    "        print(car.lower())\n",
    "    else:\n",
    "        print(car.title())\n",
    "\n",
    "print(car == 'audi')"
   ]
  },
  {
   "cell_type": "code",
   "execution_count": 26,
   "metadata": {},
   "outputs": [
    {
     "data": {
      "text/plain": [
       "['BMW', 'toyota', 'Suzuki', 'Audi']"
      ]
     },
     "execution_count": 26,
     "metadata": {},
     "output_type": "execute_result"
    }
   ],
   "source": [
    "[ car.upper() if car == 'bmw' else car.lower() if car == 'toyota' else car.title() for car in cars]"
   ]
  },
  {
   "cell_type": "code",
   "execution_count": 28,
   "metadata": {},
   "outputs": [
    {
     "name": "stdout",
     "output_type": "stream",
     "text": [
      "True\n"
     ]
    }
   ],
   "source": [
    "print(\"bmw\" in cars)"
   ]
  },
  {
   "cell_type": "code",
   "execution_count": 31,
   "metadata": {},
   "outputs": [
    {
     "name": "stdout",
     "output_type": "stream",
     "text": [
      "['haseeb', 'ijaz', 'sheikh']\n",
      "False\n",
      "True\n",
      "Login \n"
     ]
    }
   ],
   "source": [
    "banned_users:list[str] = [\"haseeb\",\"ijaz\",\"sheikh\"]\n",
    "print(banned_users)\n",
    "user: str = 'marie' \n",
    "print(user in  banned_users)\n",
    "print(user not in banned_users)\n",
    "\n",
    "if user not in banned_users:\n",
    "    print(\"Login \")"
   ]
  },
  {
   "cell_type": "code",
   "execution_count": 33,
   "metadata": {},
   "outputs": [
    {
     "name": "stdout",
     "output_type": "stream",
     "text": [
      "False\n",
      "False\n",
      "False\n",
      "False\n"
     ]
    }
   ],
   "source": [
    "print(bool(0))\n",
    "print(bool(None))\n",
    "print(bool([]))\n",
    "print(bool(\"\"))"
   ]
  },
  {
   "cell_type": "code",
   "execution_count": 34,
   "metadata": {},
   "outputs": [
    {
     "data": {
      "text/plain": [
       "['Haseeb', 'Ijaz', 'Sheikh']"
      ]
     },
     "execution_count": 34,
     "metadata": {},
     "output_type": "execute_result"
    }
   ],
   "source": [
    "some_str:str = \"Haseeb,Ijaz,Sheikh\"\n",
    "some_str.split(\",\")"
   ]
  },
  {
   "cell_type": "code",
   "execution_count": null,
   "metadata": {},
   "outputs": [],
   "source": []
  }
 ],
 "metadata": {
  "kernelspec": {
   "display_name": "python3.12",
   "language": "python",
   "name": "python3"
  },
  "language_info": {
   "codemirror_mode": {
    "name": "ipython",
    "version": 3
   },
   "file_extension": ".py",
   "mimetype": "text/x-python",
   "name": "python",
   "nbconvert_exporter": "python",
   "pygments_lexer": "ipython3",
   "version": "3.12.0"
  }
 },
 "nbformat": 4,
 "nbformat_minor": 2
}
