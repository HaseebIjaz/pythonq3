{
 "cells": [
  {
   "cell_type": "markdown",
   "metadata": {},
   "source": [
    "* Class\n",
    "    * Method\n",
    "        * first argument must be (self,this,or anything else)\n",
    "    * Attribute\n",
    "    * Class Variables\n",
    "    * Constructor\n",
    "        * def __init__\n"
   ]
  },
  {
   "cell_type": "code",
   "execution_count": 13,
   "metadata": {},
   "outputs": [],
   "source": [
    "class Teacher():\n",
    "    counter:int = 0 #class variable\n",
    "    help_line:str = \"090078601\"\n",
    "    def __init__(self,id,name) -> None:\n",
    "        self.name: str = name\n",
    "        self.id: str = id \n",
    "        self.organization:str = \"PIAIC\"\n",
    "        self.counter += 1\n",
    "    \n",
    "    def speak(self,words: str) -> None:\n",
    "        print(f\"{self.name} is teaching {words}\")\n",
    "    def teaching(self,subject:str) -> None:\n",
    "        print(f\"{self.name} is teaching {subject}\")\n",
    "    def details(self):\n",
    "        print(f\"{self.name}, {Teacher.counter}, {self.help_line}\")\n",
    "\n",
    "\n"
   ]
  },
  {
   "cell_type": "code",
   "execution_count": 14,
   "metadata": {},
   "outputs": [
    {
     "name": "stdout",
     "output_type": "stream",
     "text": [
      "0\n",
      "090078601\n",
      "090078601\n",
      "1\n",
      "1\n",
      "090078601\n",
      "Sir Zia, 0, 090078601\n"
     ]
    },
    {
     "data": {
      "text/plain": [
       "['__annotations__',\n",
       " '__class__',\n",
       " '__delattr__',\n",
       " '__dict__',\n",
       " '__dir__',\n",
       " '__doc__',\n",
       " '__eq__',\n",
       " '__format__',\n",
       " '__ge__',\n",
       " '__getattribute__',\n",
       " '__getstate__',\n",
       " '__gt__',\n",
       " '__hash__',\n",
       " '__init__',\n",
       " '__init_subclass__',\n",
       " '__le__',\n",
       " '__lt__',\n",
       " '__module__',\n",
       " '__ne__',\n",
       " '__new__',\n",
       " '__reduce__',\n",
       " '__reduce_ex__',\n",
       " '__repr__',\n",
       " '__setattr__',\n",
       " '__sizeof__',\n",
       " '__str__',\n",
       " '__subclasshook__',\n",
       " '__weakref__',\n",
       " 'counter',\n",
       " 'details',\n",
       " 'help_line',\n",
       " 'id',\n",
       " 'name',\n",
       " 'organization',\n",
       " 'speak',\n",
       " 'teaching']"
      ]
     },
     "execution_count": 14,
     "metadata": {},
     "output_type": "execute_result"
    }
   ],
   "source": [
    "obj1 : Teacher = Teacher(1,\"Sir Zia\")\n",
    "obj2: Teacher = Teacher(2,\"Sie Qasun\")\n",
    "print(Teacher.counter)\n",
    "print(Teacher.help_line)\n",
    "print(obj1.help_line)\n",
    "print(obj1.counter)\n",
    "print(obj2.counter)\n",
    "print(obj2.help_line)\n",
    "obj1.details()\n",
    "dir(obj1)"
   ]
  },
  {
   "cell_type": "code",
   "execution_count": 4,
   "metadata": {},
   "outputs": [
    {
     "name": "stdout",
     "output_type": "stream",
     "text": [
      "1 Sir Zia PIAIC\n",
      "2 Sie Qasun PIAIC\n"
     ]
    }
   ],
   "source": [
    "#Joo bhi method hoo uss kayy name sayy pehlay fn lada dein takay differentiate kar sakein\n",
    "print(obj1.id,obj1.name,obj1.organization)\n",
    "print(obj2.id,obj2.name,obj2.organization)"
   ]
  },
  {
   "cell_type": "code",
   "execution_count": 5,
   "metadata": {},
   "outputs": [
    {
     "name": "stdout",
     "output_type": "stream",
     "text": [
      "Sir Zia is teaching Gen Ai\n"
     ]
    }
   ],
   "source": [
    "obj1.teaching(\"Gen Ai\")"
   ]
  },
  {
   "cell_type": "code",
   "execution_count": 6,
   "metadata": {},
   "outputs": [
    {
     "name": "stdout",
     "output_type": "stream",
     "text": [
      "Sie Qasun is teaching Python\n"
     ]
    }
   ],
   "source": [
    "obj2.teaching(\"Python\")"
   ]
  },
  {
   "cell_type": "markdown",
   "metadata": {},
   "source": [
    "# Inheritance"
   ]
  },
  {
   "cell_type": "code",
   "execution_count": 22,
   "metadata": {},
   "outputs": [
    {
     "name": "stdout",
     "output_type": "stream",
     "text": [
      "blue\n",
      "black\n",
      "Parent method speak Hello world\n",
      "blue\n",
      "black\n",
      "You are looking Loony Toons\n",
      "Ijaz\n"
     ]
    }
   ],
   "source": [
    "class Parents():\n",
    "    def __init__(self)-> None:\n",
    "        self.eye_color = \"blue\"\n",
    "        self.hair_color = \"black\"\n",
    "    def speak(self, words:str) -> None:\n",
    "        print(f\"Parent method speak {words}\")\n",
    "    def watching(self, object_name:str) -> None:\n",
    "        print(f\"You are looking {object_name}\")\n",
    "    \n",
    "class Child(Parents):\n",
    "    def __init__(self,name:str):\n",
    "        super().__init__()\n",
    "        self.name = name\n",
    "\n",
    "class GrandChild(Child):\n",
    "    def __init__(self,name:str):\n",
    "        super().__init__(name)\n",
    "\n",
    "prt:Parents = Parents()\n",
    "print(prt.eye_color)\n",
    "print(prt.hair_color)\n",
    "prt.speak(\"Hello world\") \n",
    "\n",
    "\n",
    "chld: Child = Child(\"Haseeb\")\n",
    "print(chld.eye_color)\n",
    "print(chld.hair_color)\n",
    "chld.watching(\"Loony Toons\")\n",
    "\n",
    "gc: GrandChild = GrandChild(\"Ijaz\")\n",
    "print(gc.name)"
   ]
  },
  {
   "cell_type": "code",
   "execution_count": null,
   "metadata": {},
   "outputs": [],
   "source": []
  },
  {
   "cell_type": "code",
   "execution_count": null,
   "metadata": {},
   "outputs": [],
   "source": []
  },
  {
   "cell_type": "code",
   "execution_count": null,
   "metadata": {},
   "outputs": [],
   "source": []
  }
 ],
 "metadata": {
  "kernelspec": {
   "display_name": "python3.12",
   "language": "python",
   "name": "python3"
  },
  "language_info": {
   "codemirror_mode": {
    "name": "ipython",
    "version": 3
   },
   "file_extension": ".py",
   "mimetype": "text/x-python",
   "name": "python",
   "nbconvert_exporter": "python",
   "pygments_lexer": "ipython3",
   "version": "3.12.0"
  }
 },
 "nbformat": 4,
 "nbformat_minor": 2
}
