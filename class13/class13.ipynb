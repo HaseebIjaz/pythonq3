{
 "cells": [
  {
   "cell_type": "code",
   "execution_count": 10,
   "metadata": {},
   "outputs": [
    {
     "name": "stdout",
     "output_type": "stream",
     "text": [
      "object height 6 feet\n",
      "object eye color blue\n",
      "Father is speaking zindabad\n",
      "Asia\n",
      "Asia Ijaz\n",
      "blue\n",
      "Mother is speaking zindabad\n"
     ]
    }
   ],
   "source": [
    "from os import name\n",
    "\n",
    "\n",
    "class Mother():\n",
    "    def __init__(self,name:str) -> None:\n",
    "        self.name = name\n",
    "        self.eye_color = \"blue\"\n",
    "    def speaking(self,words:str) -> None:\n",
    "        print(f\"Mother is speaking {words}\")\n",
    "\n",
    "class Father():\n",
    "    def __init__(self,name:str) -> None:\n",
    "        self.name = name\n",
    "        self.height = \"6 feet\"\n",
    "    def speaking(self,words:str) -> None:\n",
    "        print(f\"Father is speaking {words}\")\n",
    "    \n",
    "class Child(Father,Mother):\n",
    "    def __init__(self,mother_name:str,father_name:str,child_name:str):\n",
    "        Father.__init__(self,father_name)\n",
    "        Mother.__init__(self,mother_name)\n",
    "        self.child_name = child_name\n",
    "\n",
    "class Child1(Mother,Father):\n",
    "    def __init__(self,mother_name:str,father_name:str,child_name:str):\n",
    "        Father.__init__(self,father_name)\n",
    "        Mother.__init__(self,mother_name)\n",
    "        self.child_name = child_name\n",
    "\n",
    "\n",
    "child_obj: Child = Child(\"Asia\",\"Ijaz\",\"Haseeb\")\n",
    "\n",
    "print(f\"object height {child_obj.height}\")\n",
    "print(f\"object eye color {child_obj.eye_color}\")\n",
    "child_obj.speaking(\"zindabad\")\n",
    "print(child_obj.name) # The class closest to the child is inherited if there are duplicate names\n",
    "\n",
    "child1_obj: Child1 = Child1(child_name=\"Kainat\",mother_name=\"Asia Ijaz\",father_name=\"Ajaz Ahamd\")\n",
    "print(child1_obj.name)\n",
    "print(child1_obj.eye_color)\n",
    "child1_obj.speaking(\"zindabad\")\n"
   ]
  },
  {
   "cell_type": "markdown",
   "metadata": {},
   "source": [
    "# Overloading"
   ]
  },
  {
   "cell_type": "markdown",
   "metadata": {},
   "source": [
    "* Overloading\n",
    "    * Function Overloading\n",
    "    * Operator Overloading\n"
   ]
  },
  {
   "cell_type": "code",
   "execution_count": 11,
   "metadata": {},
   "outputs": [
    {
     "name": "stdout",
     "output_type": "stream",
     "text": [
      "0\n",
      "10\n",
      "22\n",
      "32\n"
     ]
    }
   ],
   "source": [
    "# Method overloading with default Parameter Values\n",
    "\n",
    "class OverloadExample():\n",
    "    def add(self,a=0,b=0,c=0) -> int:\n",
    "        return a+b+c\n",
    "\n",
    "obj: OverloadExample = OverloadExample()\n",
    "print(obj.add())\n",
    "print(obj.add(10))\n",
    "print(obj.add(12,10))\n",
    "print(obj.add(12,10,10))"
   ]
  },
  {
   "cell_type": "code",
   "execution_count": 12,
   "metadata": {},
   "outputs": [
    {
     "data": {
      "text/plain": [
       "6"
      ]
     },
     "execution_count": 12,
     "metadata": {},
     "output_type": "execute_result"
    }
   ],
   "source": [
    "#Method Overloading with Variable-Length Arguments\n",
    "class OverloadExmaple1():\n",
    "    def add(self, *args):\n",
    "        total = 0\n",
    "        for i in args:\n",
    "            total += i\n",
    "        return total\n",
    "\n",
    "obj: OverloadExmaple1 = OverloadExmaple1()\n",
    "obj.add()\n",
    "obj.add(1)\n",
    "obj.add(1,2)\n",
    "obj.add(1,2,3)"
   ]
  },
  {
   "cell_type": "code",
   "execution_count": 14,
   "metadata": {},
   "outputs": [
    {
     "name": "stdout",
     "output_type": "stream",
     "text": [
      "2 2\n",
      "0 0\n"
     ]
    }
   ],
   "source": [
    "#Operator Overloading\n",
    "class Point:\n",
    "    def __init__(self,x:int,y:int):\n",
    "        self.x = x\n",
    "        self.y = y\n",
    "    def __add__(self,other):\n",
    "        return Point(self.x + other.x, self.y + other.y)\n",
    "    def __sub__(self,other):\n",
    "        return Point(self.x - other.x, self.y - other.y)\n",
    "    def __mul__(self,other):\n",
    "        return Point(self.x * other.x, self.y * other.y)\n",
    "\n",
    "p1:Point = Point(1,1)\n",
    "p2:Point = Point(1,1)\n",
    "p3:Point = p1 + p2\n",
    "p4:Point = p1 - p2\n",
    "print(p3.x,p3.y)\n",
    "print(p4.x,p4.y)\n",
    "        "
   ]
  },
  {
   "cell_type": "code",
   "execution_count": 15,
   "metadata": {},
   "outputs": [
    {
     "data": {
      "text/plain": [
       "'ab'"
      ]
     },
     "execution_count": 15,
     "metadata": {},
     "output_type": "execute_result"
    }
   ],
   "source": [
    "#Overloading  with Signature overloads typing \n",
    "\n",
    "from typing import Union,overload\n",
    "\n",
    "@overload\n",
    "def add(x:int, y:int) -> int:\n",
    "    ...\n",
    "@overload\n",
    "def add(x:float, y:float) ->float:\n",
    "    ...\n",
    "@overload\n",
    "def add(x:str, y:str) -> str:\n",
    "    ...\n",
    "def add(x:Union[int,float,str],y:Union[int,float,str]) -> Union[int, float, str]:\n",
    "    if isinstance(x, int) and isinstance(y, int):\n",
    "        return x + y\n",
    "    elif isinstance(x , float) and isinstance(y, float):\n",
    "        return x + y\n",
    "    elif isinstance(x, str) and isinstance(y, str):\n",
    "        return x + y\n",
    "    else:\n",
    "        raise TypeError(\"INvalid argument types\")\n",
    "\n",
    "#usage examples\n",
    "# \n",
    "add(1,2)\n",
    "add(1.2,2.0)\n",
    "add(\"a\",\"b\") \n",
    "\n"
   ]
  },
  {
   "cell_type": "code",
   "execution_count": 16,
   "metadata": {},
   "outputs": [
    {
     "data": {
      "text/plain": [
       "'abcxyz'"
      ]
     },
     "execution_count": 16,
     "metadata": {},
     "output_type": "execute_result"
    }
   ],
   "source": [
    "from typing import Union,overload\n",
    "\n",
    "class Adder:\n",
    "    @overload\n",
    "    def add(self, x:int,y:int) -> int:\n",
    "        ...\n",
    "    @overload\n",
    "    def add(self,x:float,y:float) -> float:\n",
    "        ...\n",
    "    @overload\n",
    "    def add(self,x:str,y:str) -> str:\n",
    "        ...\n",
    "    def add(self,x:Union[int,float,str],y:Union[int,float,str]) -> Union[int,float,str]:\n",
    "        if isinstance(x,int) and isinstance(y,int):\n",
    "            return x + y\n",
    "        elif isinstance(x,float) and isinstance(y,float):\n",
    "            return x + y\n",
    "        elif isinstance(x,str) and isinstance(y,str):\n",
    "            return x + y\n",
    "        else:\n",
    "            raise TypeError(\"INvalid argument type\")\n",
    "    \n",
    "\n",
    "#Usage\n",
    "\n",
    "adder: Adder = Adder()\n",
    "adder.add(1,2)\n",
    "adder.add(2.0,1.0)\n",
    "adder.add(\"abc\",\"xyz\")\n",
    "        \n"
   ]
  },
  {
   "cell_type": "markdown",
   "metadata": {},
   "source": [
    "# Inheritance vs Delegation"
   ]
  },
  {
   "cell_type": "code",
   "execution_count": null,
   "metadata": {},
   "outputs": [],
   "source": [
    "# Inhertance is Versioning\n",
    "# like Tractor is a Vehicle\n",
    "# Delegation is delegating some task to some other class \n",
    "# like Father class Delegates to Son class the shopping\n",
    "# Father class has been delegeted the responsibility of keeping track of all the sons in an Array\n",
    "#When a Son instance is created, \n",
    "# it delegates the responsibility of managing the list of children to its Father instance.\n",
    "#This delegation allows the Father instance to maintain control over the children list, \n",
    "# while each Son instance only has to worry about its own attributes and behavior.\n"
   ]
  },
  {
   "cell_type": "code",
   "execution_count": null,
   "metadata": {},
   "outputs": [],
   "source": [
    "# Delegation\n",
    "\n",
    "def Scanner():\n",
    "    def scan(self):\n",
    "        print(\"Scanning\")\n",
    "\n",
    "def Printer():\n",
    "    def __inti__(self,scanner):\n",
    "        self.scanner = scanner #Keepig track of the Scaneer\n",
    "    def print_document(self):\n",
    "        self.scanner.scan() #Delegation of scanning to the scanner\n",
    "        print(\"printing after scanning\")\n"
   ]
  },
  {
   "cell_type": "code",
   "execution_count": 17,
   "metadata": {},
   "outputs": [],
   "source": [
    "# Delegation Father and Son Example\n",
    "\n",
    "def Son():\n",
    "    def bring_water(self):\n",
    "        print(\"Bringing Water\")\n",
    "def Father():\n",
    "    def __init__(self,son):\n",
    "        self.sons = [son] #Delegation of keeping and mainting the list of Sons\n",
    "    def take_water(self):\n",
    "        for son in self.sons:\n",
    "            son.bring_water() #Delegation of briging track"
   ]
  },
  {
   "cell_type": "markdown",
   "metadata": {},
   "source": [
    "# Poymorphism / Overriding"
   ]
  },
  {
   "cell_type": "code",
   "execution_count": 18,
   "metadata": {},
   "outputs": [
    {
     "name": "stdout",
     "output_type": "stream",
     "text": [
      "Bird is eating bread\n"
     ]
    }
   ],
   "source": [
    "class Animal():\n",
    "    def eating(self,food:str):\n",
    "        print(f\"Animal is eating {food}\")\n",
    "class Bird(Animal):\n",
    "    def __init__(self):\n",
    "        super().__init__()\n",
    "    def eating(self,food):\n",
    "        print(f\"Bird is eating {food}\")\n",
    "\n",
    "brd:Animal = Bird()\n",
    "brd.eating(\"bread\")"
   ]
  },
  {
   "cell_type": "markdown",
   "metadata": {},
   "source": [
    "# Static Classes"
   ]
  },
  {
   "cell_type": "code",
   "execution_count": 20,
   "metadata": {},
   "outputs": [
    {
     "name": "stdout",
     "output_type": "stream",
     "text": [
      "3\n",
      "6\n"
     ]
    }
   ],
   "source": [
    "class MathOPeration:\n",
    "    counter:int = 0\n",
    "    organization:str = \"PIAC\"\n",
    "\n",
    "    @staticmethod\n",
    "    def add(x:int, y:int) -> int:\n",
    "        return x + y\n",
    "    \n",
    "    @staticmethod\n",
    "    def mul(x:int, y:int) -> int:\n",
    "        return x * y\n",
    "    \n",
    "result_add:int = MathOPeration.add(1,2)\n",
    "result_mul:int = MathOPeration.mul(2,3)\n",
    "\n",
    "print(result_add)\n",
    "print(result_mul)"
   ]
  },
  {
   "cell_type": "markdown",
   "metadata": {},
   "source": [
    "# In Python, Everything is an Object"
   ]
  },
  {
   "cell_type": "code",
   "execution_count": null,
   "metadata": {},
   "outputs": [],
   "source": [
    "# In other languages there are two types primitive type and object type\n",
    "# In python there is only object type\n",
    "# Everything in python is inherited from the object\n",
    "# All the magic methods or dunder methods or methods wih double underscores \n",
    "# like __init__ , __iter__, __call__ come from the object\n"
   ]
  },
  {
   "cell_type": "code",
   "execution_count": null,
   "metadata": {},
   "outputs": [],
   "source": [
    "#Python does not have a distinction between primitive types and object types \n",
    "# in the same way as some other languages do.\n",
    "#In Python, everything is treated as an object, \n",
    "# and all classes inherit from a base class called object.\n",
    "\n",
    "#even basic types like integers and booleans are implemented as objects, \n",
    "# and you can manipulate them as such.\n",
    "\n",
    "#This means that every class you define is ultimately derived from object.\n"
   ]
  },
  {
   "cell_type": "code",
   "execution_count": 15,
   "metadata": {},
   "outputs": [],
   "source": [
    "#The best part is that we can overide the magic methods \n",
    "# like __add__ or __call__ and achieve desired behaviour  \n",
    "#When we do dir() , we get list of all the methods \n",
    "# inclding the dunder methods inherited from base calss \"object\" like __call__ or __iter__\n"
   ]
  },
  {
   "cell_type": "code",
   "execution_count": 16,
   "metadata": {},
   "outputs": [],
   "source": [
    "# Also we do operator overloading by overriding __add__ or __mul__ magic methods"
   ]
  },
  {
   "cell_type": "code",
   "execution_count": 31,
   "metadata": {},
   "outputs": [
    {
     "name": "stdout",
     "output_type": "stream",
     "text": [
      "Human is eating biryani\n",
      "Human1 is eating biryani\n"
     ]
    }
   ],
   "source": [
    "# BOth of the classes are identical since Human is implicitly inherted wih object\n",
    "# object class is a blase class to all other classes and types in python\n",
    "# Both will have methods and attributes inherited from object class  \n",
    "#  There is no static time in python and javascript only runtime\n",
    "class Human:\n",
    "    def eating(self,food:str):\n",
    "        print(f\"Human is eating {food}\")\n",
    "\n",
    "obj: Human = Human()\n",
    "obj.eating(\"biryani\")\n",
    "\n",
    "class Human1(object):\n",
    "    def eating(self,food:str):\n",
    "        print(f\"Human1 is eating {food}\")\n",
    "\n",
    "obj1: Human1 = Human1()\n",
    "obj1.eating(\"biryani\")"
   ]
  },
  {
   "cell_type": "code",
   "execution_count": 32,
   "metadata": {},
   "outputs": [],
   "source": [
    "# Callable\n",
    "# We can call Calsses like methods\n",
    "# Calling a class like a method"
   ]
  },
  {
   "cell_type": "code",
   "execution_count": 33,
   "metadata": {},
   "outputs": [
    {
     "name": "stdout",
     "output_type": "stream",
     "text": [
      "Human1 is eating Biryani\n",
      "Human1 is eating Object Method kii Roti\n",
      "Human1 is eating Object Method kii Roti\n"
     ]
    }
   ],
   "source": [
    "class Human1(object):\n",
    "    def eating(self,food:str):\n",
    "        print(f\"Human1 is eating {food}\")\n",
    "    def __call__(self):\n",
    "        self.eating(\"Object Method kii Roti\")\n",
    "    # @staticmethod\n",
    "    # def __call__():\n",
    "    #     print(\"Called the class by calling the Class Method \")\n",
    "\n",
    "obj3: Human1 = Human1()\n",
    "obj3.eating(\"Biryani\")\n",
    "obj3.__call__()\n",
    "obj3() #object directly called because it implements __call__ method        \n",
    "        "
   ]
  },
  {
   "cell_type": "code",
   "execution_count": 34,
   "metadata": {},
   "outputs": [
    {
     "name": "stdout",
     "output_type": "stream",
     "text": [
      "Human1 is eating Biryani\n",
      "Called the class by calling the Class Method \n",
      "Called the class by calling the Class Method \n",
      "Called the class by calling the Class Method \n"
     ]
    },
    {
     "data": {
      "text/plain": [
       "<__main__.Human1 at 0x7c3fb977f140>"
      ]
     },
     "execution_count": 34,
     "metadata": {},
     "output_type": "execute_result"
    }
   ],
   "source": [
    "class Human1(object):\n",
    "    def eating(self,food:str):\n",
    "        print(f\"Human1 is eating {food}\")\n",
    "    # def __call__(self):\n",
    "    #     self.eating(\"Object Method kii Roti\")\n",
    "    @staticmethod\n",
    "    def __call__():\n",
    "        print(\"Called the class by calling the Class Method \")\n",
    "\n",
    "obj3: Human1 = Human1()\n",
    "obj3.eating(\"Biryani\")\n",
    "obj3.__call__()\n",
    "obj3() #object directly called because it implements __call__ method   \n",
    "Human1.__call__()      \n",
    "Human1()"
   ]
  },
  {
   "cell_type": "code",
   "execution_count": 36,
   "metadata": {},
   "outputs": [
    {
     "data": {
      "text/plain": [
       "<__main__.Human1 at 0x7c3fb977cb00>"
      ]
     },
     "execution_count": 36,
     "metadata": {},
     "output_type": "execute_result"
    }
   ],
   "source": [
    "class Human1(object):\n",
    "    def eating(self,food:str):\n",
    "        print(f\"Human1 is eating {food}\")\n",
    "\n",
    "\n",
    "Human1()"
   ]
  },
  {
   "cell_type": "code",
   "execution_count": null,
   "metadata": {},
   "outputs": [],
   "source": []
  },
  {
   "cell_type": "code",
   "execution_count": null,
   "metadata": {},
   "outputs": [],
   "source": []
  },
  {
   "cell_type": "code",
   "execution_count": null,
   "metadata": {},
   "outputs": [],
   "source": []
  },
  {
   "cell_type": "code",
   "execution_count": 11,
   "metadata": {},
   "outputs": [
    {
     "ename": "IndexError",
     "evalue": "list index out of range",
     "output_type": "error",
     "traceback": [
      "\u001b[0;31m---------------------------------------------------------------------------\u001b[0m",
      "\u001b[0;31mIndexError\u001b[0m                                Traceback (most recent call last)",
      "Cell \u001b[0;32mIn[11], line 3\u001b[0m\n\u001b[1;32m      1\u001b[0m array:\u001b[38;5;28mlist\u001b[39m[\u001b[38;5;28mint\u001b[39m] \u001b[38;5;241m=\u001b[39m \u001b[38;5;28mlist\u001b[39m([\u001b[38;5;241m10\u001b[39m,\u001b[38;5;241m11\u001b[39m,\u001b[38;5;241m12\u001b[39m])\n\u001b[1;32m      2\u001b[0m array\u001b[38;5;241m.\u001b[39minsert(\u001b[38;5;241m10\u001b[39m,\u001b[38;5;241m14\u001b[39m)\n\u001b[0;32m----> 3\u001b[0m \u001b[38;5;28mprint\u001b[39m(\u001b[43marray\u001b[49m\u001b[43m[\u001b[49m\u001b[38;5;241;43m10\u001b[39;49m\u001b[43m]\u001b[49m)\n\u001b[1;32m      4\u001b[0m \u001b[38;5;28;01mfor\u001b[39;00m val \u001b[38;5;129;01min\u001b[39;00m array:\n\u001b[1;32m      5\u001b[0m     \u001b[38;5;28mprint\u001b[39m(val)\n",
      "\u001b[0;31mIndexError\u001b[0m: list index out of range"
     ]
    }
   ],
   "source": [
    "array:list[int] = list([10,11,12])\n",
    "array.insert(10,14)\n",
    "print(array[10])\n",
    "for val in array:\n",
    "    print(val)\n",
    "for i in range(len(array)):\n",
    "    print(i)\n",
    "\n",
    "dir(array)"
   ]
  },
  {
   "cell_type": "code",
   "execution_count": 12,
   "metadata": {},
   "outputs": [
    {
     "data": {
      "text/plain": [
       "['__add__',\n",
       " '__class__',\n",
       " '__class_getitem__',\n",
       " '__contains__',\n",
       " '__delattr__',\n",
       " '__delitem__',\n",
       " '__dir__',\n",
       " '__doc__',\n",
       " '__eq__',\n",
       " '__format__',\n",
       " '__ge__',\n",
       " '__getattribute__',\n",
       " '__getitem__',\n",
       " '__getstate__',\n",
       " '__gt__',\n",
       " '__hash__',\n",
       " '__iadd__',\n",
       " '__imul__',\n",
       " '__init__',\n",
       " '__init_subclass__',\n",
       " '__iter__',\n",
       " '__le__',\n",
       " '__len__',\n",
       " '__lt__',\n",
       " '__mul__',\n",
       " '__ne__',\n",
       " '__new__',\n",
       " '__reduce__',\n",
       " '__reduce_ex__',\n",
       " '__repr__',\n",
       " '__reversed__',\n",
       " '__rmul__',\n",
       " '__setattr__',\n",
       " '__setitem__',\n",
       " '__sizeof__',\n",
       " '__str__',\n",
       " '__subclasshook__',\n",
       " 'append',\n",
       " 'clear',\n",
       " 'copy',\n",
       " 'count',\n",
       " 'extend',\n",
       " 'index',\n",
       " 'insert',\n",
       " 'pop',\n",
       " 'remove',\n",
       " 'reverse',\n",
       " 'sort']"
      ]
     },
     "execution_count": 12,
     "metadata": {},
     "output_type": "execute_result"
    }
   ],
   "source": [
    "dir(array)"
   ]
  },
  {
   "cell_type": "code",
   "execution_count": null,
   "metadata": {},
   "outputs": [],
   "source": []
  }
 ],
 "metadata": {
  "kernelspec": {
   "display_name": "python3.12",
   "language": "python",
   "name": "python3"
  },
  "language_info": {
   "codemirror_mode": {
    "name": "ipython",
    "version": 3
   },
   "file_extension": ".py",
   "mimetype": "text/x-python",
   "name": "python",
   "nbconvert_exporter": "python",
   "pygments_lexer": "ipython3",
   "version": "3.12.0"
  }
 },
 "nbformat": 4,
 "nbformat_minor": 2
}
