{
 "cells": [
  {
   "cell_type": "code",
   "execution_count": 4,
   "metadata": {},
   "outputs": [
    {
     "name": "stdout",
     "output_type": "stream",
     "text": [
      "{1, 2, 3, 4, 5}\n",
      "1\n",
      "2\n",
      "3\n",
      "4\n",
      "5\n",
      "1\n",
      "2\n",
      "4\n",
      "5\n",
      "6\n",
      "7\n",
      "8\n"
     ]
    }
   ],
   "source": [
    "aa: set[int] = {1,2,3,4,5,5,5,5,5,5}\n",
    "print(aa) \n",
    "for i in aa:\n",
    "    print(i)\n",
    "\n",
    "tup: tuple[int] = (1,2,4,5,6,7,8)\n",
    "for i in tup:\n",
    "    print(i)"
   ]
  },
  {
   "cell_type": "markdown",
   "metadata": {},
   "source": [
    "# Strings are immutable in python"
   ]
  },
  {
   "cell_type": "markdown",
   "metadata": {},
   "source": [
    "# Input from user\n",
    "* input function \n",
    "    * default type = string \n",
    "* sys.argv(for console input in .py file)\n",
    "    * default type = string"
   ]
  },
  {
   "cell_type": "code",
   "execution_count": 8,
   "metadata": {},
   "outputs": [
    {
     "name": "stdout",
     "output_type": "stream",
     "text": [
      "Haseeb\n",
      "<class 'str'>\n"
     ]
    }
   ],
   "source": [
    "name:str = input(\"Whats your name ? : \\t\")\n",
    "print(name)\n",
    "print(type(name))"
   ]
  },
  {
   "cell_type": "code",
   "execution_count": 11,
   "metadata": {},
   "outputs": [
    {
     "name": "stdout",
     "output_type": "stream",
     "text": [
      "line1\n",
      "line2\n",
      "['/home/haseeb/anaconda3/envs/python3.12/lib/python3.12/site-packages/ipykernel_launcher.py', '--f=/home/haseeb/.local/share/jupyter/runtime/kernel-v2-4448CdbzvRJY50TY.json']\n",
      "<class 'list'>\n"
     ]
    }
   ],
   "source": [
    "import sys\n",
    "print(\"line1\")\n",
    "print(\"line2\")\n",
    "print(sys.argv)\n",
    "print(type(sys.argv)) # -> list type -> collects arguments passed in a list"
   ]
  },
  {
   "cell_type": "code",
   "execution_count": 14,
   "metadata": {},
   "outputs": [
    {
     "name": "stdout",
     "output_type": "stream",
     "text": [
      "<zip object at 0x77a11858c140>\n",
      "[('a', 'x', 2), ('b', 'y', 4), ('c', 'z', 6)]\n",
      "a x 2\n",
      "b y 4\n",
      "c z 6\n"
     ]
    }
   ],
   "source": [
    "names: list[str] = [\"a\",\"b\",\"c\"]\n",
    "lnames: list[str] = [\"x\",\"y\",\"z\"]\n",
    "age: list[int] = [2,4,6]\n",
    "print(zip(names,lnames,age))\n",
    "print(list(zip(names,lnames,age)))\n",
    "for n, ln, a in zip(names,lnames,age):\n",
    "    print(n,ln,a)"
   ]
  },
  {
   "cell_type": "code",
   "execution_count": 15,
   "metadata": {},
   "outputs": [
    {
     "name": "stdout",
     "output_type": "stream",
     "text": [
      "1\n",
      "2\n",
      "3\n",
      "4\n",
      "5\n",
      "6\n",
      "7\n",
      "8\n",
      "9\n",
      "10\n"
     ]
    }
   ],
   "source": [
    "flag: bool = True\n",
    "count: int = 0\n",
    "while flag:\n",
    "    count += 1\n",
    "    print(count)\n",
    "    if count == 10:\n",
    "        break"
   ]
  },
  {
   "cell_type": "code",
   "execution_count": 16,
   "metadata": {},
   "outputs": [
    {
     "name": "stdout",
     "output_type": "stream",
     "text": [
      "Write quit or exit to stop this program !\n",
      "Write quit or exit to stop this program !\n"
     ]
    }
   ],
   "source": [
    "data: list[dict[str,str]] = []\n",
    "\n",
    "flag: bool = True\n",
    "stop_words: list[str] = [\"stop\", \"quit\", \"close\", \"exit\"]\n",
    "while flag:\n",
    "    print(\"Write quit or exit to stop this program !\")\n",
    "    name:str = input(\"Enter name: \")\n",
    "    education:str = input(\"Enter education: \")\n",
    "\n",
    "    if(name in stop_words or education in stop_words):\n",
    "        break\n",
    "    data.append({\"name\":name,\"education\":education})\n"
   ]
  },
  {
   "cell_type": "code",
   "execution_count": 17,
   "metadata": {},
   "outputs": [
    {
     "name": "stdout",
     "output_type": "stream",
     "text": [
      "0\n",
      "1\n",
      "2\n",
      "3\n",
      "5\n",
      "6\n",
      "7\n",
      "8\n",
      "9\n"
     ]
    }
   ],
   "source": [
    "for i in range(10):\n",
    "    if i == 4:\n",
    "        continue\n",
    "    print(i)"
   ]
  },
  {
   "cell_type": "code",
   "execution_count": 22,
   "metadata": {},
   "outputs": [
    {
     "name": "stdout",
     "output_type": "stream",
     "text": [
      "first loop with pass as placeholder\n",
      "second loop with ... as placeholder\n",
      "third loop\n",
      "0\n",
      "1\n",
      "2\n",
      "3\n",
      "4\n",
      "5\n",
      "6\n",
      "7\n",
      "8\n",
      "9\n"
     ]
    }
   ],
   "source": [
    "# pass  and ... is body or block placeholder\n",
    "print(\"first loop with pass as placeholder\")\n",
    "for i in range(10):\n",
    "    pass\n",
    "print(\"second loop with ... as placeholder\")\n",
    "for i in range(10):\n",
    "    ...\n",
    "print(\"third loop\")\n",
    "for i in range(10):\n",
    "    print(i)\n",
    "    pass\n"
   ]
  },
  {
   "cell_type": "code",
   "execution_count": 23,
   "metadata": {},
   "outputs": [],
   "source": [
    "def sum(a:int, b:int) -> int:\n",
    "    pass\n",
    "def subtract(a:int, b:int) ->int:\n",
    "    ...\n"
   ]
  },
  {
   "cell_type": "code",
   "execution_count": 25,
   "metadata": {},
   "outputs": [
    {
     "name": "stdout",
     "output_type": "stream",
     "text": [
      "line1\n",
      "line2\n",
      "<class 'list'>\n",
      "['/home/haseeb/anaconda3/envs/python3.12/lib/python3.12/site-packages/ipykernel_launcher.py', '--f=/home/haseeb/.local/share/jupyter/runtime/kernel-v2-4448CdbzvRJY50TY.json']\n"
     ]
    }
   ],
   "source": [
    "import sys\n",
    "print(\"line1\")\n",
    "print(\"line2\")\n",
    "print(type(sys.argv))\n",
    "\n",
    "if sys.argv[1] == \"-g\":\n",
    "    print(\"Package will be installed globally on the system\")\n",
    "print(sys.argv)"
   ]
  },
  {
   "cell_type": "code",
   "execution_count": 27,
   "metadata": {},
   "outputs": [
    {
     "name": "stdout",
     "output_type": "stream",
     "text": [
      "Hello dl;a\n"
     ]
    }
   ],
   "source": [
    "# / back slash is used everywhere for line continuation\n",
    "prompt: str = \"\"\"if you share your name, we can personalize the message you see.\n",
    "What is your name ? \"\"\"\n",
    "\n",
    "name:str = input(prompt)\n",
    "print(f\"Hello {name}\")\n"
   ]
  },
  {
   "cell_type": "code",
   "execution_count": null,
   "metadata": {},
   "outputs": [],
   "source": [
    "print(1 +\\\n",
    "      2 +\\\n",
    "        3+\\\n",
    "            4+\\\n",
    "                5)"
   ]
  },
  {
   "cell_type": "code",
   "execution_count": 28,
   "metadata": {},
   "outputs": [
    {
     "name": "stdout",
     "output_type": "stream",
     "text": [
      "False\n"
     ]
    }
   ],
   "source": [
    "age:int = int(input(\"UR Age ?\"))\n",
    "print(age>20)"
   ]
  },
  {
   "cell_type": "code",
   "execution_count": 30,
   "metadata": {},
   "outputs": [
    {
     "data": {
      "text/plain": [
       "[2, 4, 6, 8]"
      ]
     },
     "execution_count": 30,
     "metadata": {},
     "output_type": "execute_result"
    }
   ],
   "source": [
    "data: list[int] = [1,2,3,4,5,6,7,8,9]\n",
    "[i for i in data if i % 2 == 0]"
   ]
  },
  {
   "cell_type": "code",
   "execution_count": 31,
   "metadata": {},
   "outputs": [
    {
     "name": "stdout",
     "output_type": "stream",
     "text": [
      "7\n",
      "6\n",
      "5\n",
      "4\n",
      "2\n",
      "1\n"
     ]
    }
   ],
   "source": [
    "list_items: list[int] = [1,2,4,5,6,7]\n",
    "while list_items: #terminating condition is [] since it evaluates to False\n",
    "    item:int = list_items.pop()\n",
    "    print(item)\n",
    "\n"
   ]
  },
  {
   "cell_type": "code",
   "execution_count": 32,
   "metadata": {},
   "outputs": [
    {
     "name": "stdout",
     "output_type": "stream",
     "text": [
      "['dog', 'dog', 'cat', 'dog', 'cat', 'dog', 'cat', 'dog', 'cat']\n",
      "['dog', 'dog', 'dog', 'cat', 'dog', 'cat', 'dog', 'cat']\n",
      "['dog', 'dog', 'dog', 'dog', 'cat', 'dog', 'cat']\n",
      "['dog', 'dog', 'dog', 'dog', 'dog', 'cat']\n",
      "['dog', 'dog', 'dog', 'dog', 'dog']\n"
     ]
    }
   ],
   "source": [
    "pets = [\"dog\",\"cat\",\"dog\",\"cat\",\"dog\",\"cat\",\"dog\",\"cat\",\"dog\",\"cat\",]\n",
    "while \"cat\" in pets:\n",
    "    pets.remove(\"cat\")\n",
    "    print(pets)"
   ]
  },
  {
   "cell_type": "code",
   "execution_count": null,
   "metadata": {},
   "outputs": [],
   "source": []
  }
 ],
 "metadata": {
  "kernelspec": {
   "display_name": "python3.12",
   "language": "python",
   "name": "python3"
  },
  "language_info": {
   "codemirror_mode": {
    "name": "ipython",
    "version": 3
   },
   "file_extension": ".py",
   "mimetype": "text/x-python",
   "name": "python",
   "nbconvert_exporter": "python",
   "pygments_lexer": "ipython3",
   "version": "3.12.0"
  }
 },
 "nbformat": 4,
 "nbformat_minor": 2
}
