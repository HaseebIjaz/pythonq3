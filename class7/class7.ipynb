{
 "cells": [
  {
   "cell_type": "code",
   "execution_count": 18,
   "metadata": {},
   "outputs": [],
   "source": [
    "from typing import Dict\n",
    "#Hash Table\n",
    "# The key must be hashable in the dictionary, meaning that tuple and list cant be the key\n",
    "data : Dict[str,str] = {\n",
    "    \"fname\": \"Haseeb\",\n",
    "    \"mname\": \"Ijaz\",\n",
    "    \"lname\": \"Sheikh\",\n",
    "    \"education\": \"BSCS\"\n",
    "}"
   ]
  },
  {
   "cell_type": "code",
   "execution_count": 19,
   "metadata": {},
   "outputs": [],
   "source": [
    "#Display function only works in Jupyter notebok\n",
    "display()"
   ]
  },
  {
   "cell_type": "code",
   "execution_count": 20,
   "metadata": {},
   "outputs": [
    {
     "name": "stdout",
     "output_type": "stream",
     "text": [
      "{'fname': 'Haseeb', 'lname': 'Sheikh', 'mname': 'Ijaz'}\n"
     ]
    }
   ],
   "source": [
    "from typing import Dict, Union, Optional\n",
    "\n",
    "import pprint\n",
    "\n",
    "Key = Union[int,str]\n",
    "Value = Union [int, str, list, dict, tuple , set]\n",
    "data: Dict[Key,Value] = {\n",
    "    \"fname\": \"Haseeb\",\n",
    "    \"mname\": \"Ijaz\",\n",
    "    \"lname\": \"Sheikh\" \n",
    "}\n",
    "pprint.pprint(data)"
   ]
  },
  {
   "cell_type": "markdown",
   "metadata": {},
   "source": [
    "##### Case I:\n",
    "##### if Condition as a Filter\n",
    "##### [car for car in cars if car == \"bmw\"]\n",
    "##### if placed at end\n",
    "\n",
    "\n",
    "##### Case II\n",
    "##### if and else Clause as Part of the Expression\n",
    "##### [car if car == \"bmw\" else \"nothing\" for car in cars]\n",
    "##### if-else placed at start"
   ]
  },
  {
   "cell_type": "code",
   "execution_count": 21,
   "metadata": {},
   "outputs": [
    {
     "data": {
      "text/plain": [
       "['bmw', 'nothing', 'nothing', 'nothing']"
      ]
     },
     "execution_count": 21,
     "metadata": {},
     "output_type": "execute_result"
    }
   ],
   "source": [
    "\n",
    "cars = [\"bmw\",\"toyota\",\"audi\",\"suzuki\"]\n",
    "\n",
    "##### Case I:\n",
    "##### if Condition as a Filter\n",
    "##### [car for car in cars if car == \"bmw\"]\n",
    "##### if placed at end\n",
    "\n",
    "[car for car in cars if car == \"bmw\"]\n",
    "\n",
    "##### Case II\n",
    "##### if and else Clause as Part of the Expression\n",
    "##### [car if car == \"bmw\" else \"nothing\" for car in cars]\n",
    "##### if-else placed at start\n",
    "\n",
    "[car if car == \"bmw\" else \"nothing\" for car in cars]"
   ]
  },
  {
   "cell_type": "code",
   "execution_count": 22,
   "metadata": {},
   "outputs": [
    {
     "name": "stdout",
     "output_type": "stream",
     "text": [
      "{1, 2, 4, 7}\n"
     ]
    }
   ],
   "source": [
    "data: set = {7,1,2,4,1,1,1,1,1,1}\n",
    "print(data)"
   ]
  },
  {
   "cell_type": "code",
   "execution_count": 23,
   "metadata": {},
   "outputs": [
    {
     "data": {
      "text/plain": [
       "['add',\n",
       " 'clear',\n",
       " 'copy',\n",
       " 'difference',\n",
       " 'difference_update',\n",
       " 'discard',\n",
       " 'intersection',\n",
       " 'intersection_update',\n",
       " 'isdisjoint',\n",
       " 'issubset',\n",
       " 'issuperset',\n",
       " 'pop',\n",
       " 'remove',\n",
       " 'symmetric_difference',\n",
       " 'symmetric_difference_update',\n",
       " 'union',\n",
       " 'update']"
      ]
     },
     "execution_count": 23,
     "metadata": {},
     "output_type": "execute_result"
    }
   ],
   "source": [
    "[i for i in dir(data) if \"__\" not in i]"
   ]
  },
  {
   "cell_type": "code",
   "execution_count": 25,
   "metadata": {},
   "outputs": [
    {
     "data": {
      "text/plain": [
       "[1, 2, 5, 7, 8, 88]"
      ]
     },
     "execution_count": 25,
     "metadata": {},
     "output_type": "execute_result"
    }
   ],
   "source": [
    "set_data : set = {1,2,5,7,88,8,8,8,8,8,8,8}\n",
    "list(set_data)"
   ]
  },
  {
   "cell_type": "code",
   "execution_count": 28,
   "metadata": {},
   "outputs": [
    {
     "name": "stdout",
     "output_type": "stream",
     "text": [
      "{'hero': 'Superman', 'game': 'dome'}\n",
      "NA\n"
     ]
    }
   ],
   "source": [
    "data_dict: Dict[str,str] = {}\n",
    "data_dict[\"hero\"] = \"human\"\n",
    "data_dict[\"game\"] = \"dome\"\n",
    "data_dict[\"hero\"] = \"Superman\"\n",
    "\n",
    "print(data_dict)\n",
    "print(data_dict.get(\"country\",\"NA\"))"
   ]
  },
  {
   "cell_type": "code",
   "execution_count": 31,
   "metadata": {},
   "outputs": [
    {
     "name": "stdout",
     "output_type": "stream",
     "text": [
      "hero\n",
      "game\n",
      "dict_keys(['hero', 'game'])\n",
      "dict_values(['Superman', 'dome'])\n",
      "dict_items([('hero', 'Superman'), ('game', 'dome')])\n",
      "hero\n",
      "game\n",
      "hero\n",
      "game\n",
      "Superman\n",
      "dome\n",
      "hero Superman\n",
      "game dome\n"
     ]
    }
   ],
   "source": [
    "for key in data_dict:\n",
    "    print(key)\n",
    "\n",
    "print(data_dict.keys())\n",
    "print(data_dict.values())\n",
    "print(data_dict.items())\n",
    "\n",
    "for key in data_dict:\n",
    "    print(key)\n",
    "for key in data_dict.keys():\n",
    "    print(key)\n",
    "for val in data_dict.values():\n",
    "    print(val)\n",
    "for key,val in data_dict.items():\n",
    "    print(key,val)"
   ]
  },
  {
   "cell_type": "code",
   "execution_count": 32,
   "metadata": {},
   "outputs": [
    {
     "name": "stdout",
     "output_type": "stream",
     "text": [
      "{'hero': 'Superman', 'game': 'dome'}\n"
     ]
    }
   ],
   "source": [
    "print({key:value for key,value in data_dict.items()})"
   ]
  },
  {
   "cell_type": "code",
   "execution_count": 33,
   "metadata": {},
   "outputs": [
    {
     "data": {
      "text/plain": [
       "{'Superman': 'hero', 'dome': 'game'}"
      ]
     },
     "execution_count": 33,
     "metadata": {},
     "output_type": "execute_result"
    }
   ],
   "source": [
    "{value:key for key,value in data_dict.items()}"
   ]
  },
  {
   "cell_type": "code",
   "execution_count": 35,
   "metadata": {},
   "outputs": [
    {
     "name": "stdout",
     "output_type": "stream",
     "text": [
      "9 7\n"
     ]
    }
   ],
   "source": [
    "a: int = 7\n",
    "b: int = 9\n",
    "\n",
    "a,b = b,a\n",
    "print(a,b)"
   ]
  },
  {
   "cell_type": "code",
   "execution_count": 36,
   "metadata": {},
   "outputs": [
    {
     "name": "stdout",
     "output_type": "stream",
     "text": [
      "{}\n"
     ]
    }
   ],
   "source": [
    "keys: list[str] = ['id','name','fname','course']\n",
    "data: dict[str,str] = {}\n",
    "\n",
    "print(data)"
   ]
  },
  {
   "cell_type": "code",
   "execution_count": 38,
   "metadata": {},
   "outputs": [
    {
     "name": "stdout",
     "output_type": "stream",
     "text": [
      "{'id': None, 'name': None, 'fname': None, 'course': None}\n",
      "{}\n"
     ]
    }
   ],
   "source": [
    "\n",
    "print(data.fromkeys(keys)) # data.fromKeys() is an inline operation, \n",
    "#meaning it does not change the original dict in memory\n",
    "\n",
    "print(data)"
   ]
  },
  {
   "cell_type": "code",
   "execution_count": 39,
   "metadata": {},
   "outputs": [
    {
     "name": "stdout",
     "output_type": "stream",
     "text": [
      "{'id': None, 'name': None, 'fname': None, 'course': None}\n"
     ]
    }
   ],
   "source": [
    "#override to store\n",
    "data = data.fromkeys(keys)\n",
    "print(data)"
   ]
  },
  {
   "cell_type": "code",
   "execution_count": 46,
   "metadata": {},
   "outputs": [
    {
     "name": "stdout",
     "output_type": "stream",
     "text": [
      "{1, 2, 3, 5, 6, 8, 9}\n",
      "1\n",
      "2\n",
      "3\n",
      "5\n",
      "6\n",
      "8\n",
      "9\n",
      "1\n",
      "2\n",
      "3\n",
      "5\n",
      "6\n",
      "8\n",
      "9\n",
      "[1, 2, 3, 5, 6, 8, 9]\n",
      "[(0, 1), (1, 2), (2, 3), (3, 5), (4, 6), (5, 8), (6, 9)]\n",
      "0 1\n",
      "1 2\n",
      "2 3\n",
      "3 5\n",
      "4 6\n",
      "5 8\n",
      "6 9\n"
     ]
    }
   ],
   "source": [
    "# All joins can be applied on sets like left join, inner join, disjoint, full outer join\n",
    "# are designed to optimize for membership testing and uniqueness of elements \n",
    "\n",
    "data: set[int] = {8,8,8,9,9,1,2,3,5,6,6,6,6}\n",
    "print(data)\n",
    "for i in data:\n",
    "    print(i)\n",
    "\n",
    "for i in sorted(data):\n",
    "    print(i)\n",
    "\n",
    "print(list(data))\n",
    "print(list(enumerate(data)))\n",
    "\n",
    "for idx,val in enumerate(data):\n",
    "    print(idx,val)"
   ]
  },
  {
   "cell_type": "code",
   "execution_count": 50,
   "metadata": {},
   "outputs": [
    {
     "data": {
      "text/plain": [
       "['add',\n",
       " 'clear',\n",
       " 'copy',\n",
       " 'difference',\n",
       " 'difference_update',\n",
       " 'discard',\n",
       " 'intersection',\n",
       " 'intersection_update',\n",
       " 'isdisjoint',\n",
       " 'issubset',\n",
       " 'issuperset',\n",
       " 'pop',\n",
       " 'remove',\n",
       " 'symmetric_difference',\n",
       " 'symmetric_difference_update',\n",
       " 'union',\n",
       " 'update']"
      ]
     },
     "execution_count": 50,
     "metadata": {},
     "output_type": "execute_result"
    }
   ],
   "source": [
    "[i for i in dir(set) if \"__\" not in i]"
   ]
  },
  {
   "cell_type": "code",
   "execution_count": 7,
   "metadata": {},
   "outputs": [
    {
     "name": "stdout",
     "output_type": "stream",
     "text": [
      "{'fname': 'Haseeb', 'lname': 'Ijaz', (1, 2): 'BSCS', 'cde': {'a': 1, 'b': 2}}\n",
      "2\n"
     ]
    }
   ],
   "source": [
    "# Tuple can become the key of the dictionary\n",
    "# Datatypes can be hashable or unhashable\n",
    "# Lists and Sets are unhashable, thats why they cant become the keys\n",
    "\n",
    "ac_dict: dict[str,str] = {\n",
    "    \"fname\": \"Haseeb\",\n",
    "    \"lname\": \"Ijaz\",\n",
    "    (1,2) : \"BSCS\",\n",
    "    \"cde\": {\"a\":1,\"b\":2}\n",
    "\n",
    "}\n",
    "print(ac_dict)\n",
    "print(ac_dict[\"cde\"][\"b\"])\n",
    "\n",
    "ac_dict[\"lname\"] = \"Sheikh\"\n"
   ]
  },
  {
   "cell_type": "code",
   "execution_count": 10,
   "metadata": {},
   "outputs": [
    {
     "data": {
      "text/plain": [
       "dict_items([('fname', 'Haseeb'), ('lname', 'Sheikh'), ((1, 2), 'BSCS'), ('cde', {'a': 1, 'b': 2})])"
      ]
     },
     "execution_count": 10,
     "metadata": {},
     "output_type": "execute_result"
    }
   ],
   "source": [
    "# .get() methon on dictionary\n",
    "ac_dict.get(\"kast\",\"NA\")\n",
    "ac_dict.keys()\n",
    "ac_dict.values()\n",
    "ac_dict.items()"
   ]
  },
  {
   "cell_type": "code",
   "execution_count": 14,
   "metadata": {},
   "outputs": [
    {
     "name": "stdout",
     "output_type": "stream",
     "text": [
      "fname\n",
      "lname\n",
      "(1, 2)\n",
      "cde\n",
      "fname Haseeb\n",
      "lname Sheikh\n",
      "(1, 2) BSCS\n",
      "cde {'a': 1, 'b': 2}\n"
     ]
    }
   ],
   "source": [
    "for i in ac_dict.keys():\n",
    "    print(i)\n",
    "[key for key in ac_dict.keys()]\n",
    "\n",
    "for k,v in ac_dict.items():\n",
    "    print(k,v)"
   ]
  },
  {
   "cell_type": "code",
   "execution_count": 18,
   "metadata": {},
   "outputs": [
    {
     "data": {
      "text/plain": [
       "{'haseeb': 'name', 'python': 'class'}"
      ]
     },
     "execution_count": 18,
     "metadata": {},
     "output_type": "execute_result"
    }
   ],
   "source": [
    "ac_dict = {\"name\": \"haseeb\", \"class\": \"python\"}\n",
    "{k:v for k,v in ac_dict.items()}\n",
    "{v:k for k,v in ac_dict.items()} #Shuffle"
   ]
  },
  {
   "cell_type": "code",
   "execution_count": 20,
   "metadata": {},
   "outputs": [
    {
     "name": "stdout",
     "output_type": "stream",
     "text": [
      "7\n",
      "9\n"
     ]
    }
   ],
   "source": [
    "a:int = 9\n",
    "b:int = 7\n",
    "\n",
    "a,b = b,a\n",
    "print(a)\n",
    "print(b)"
   ]
  },
  {
   "cell_type": "code",
   "execution_count": 43,
   "metadata": {},
   "outputs": [
    {
     "name": "stdout",
     "output_type": "stream",
     "text": [
      "1\n",
      "1\n"
     ]
    }
   ],
   "source": [
    "from typing import Dict, TypedDict, Union, Optional, Tuple\n",
    "import pprint\n",
    "\n",
    "class Data2(TypedDict):\n",
    "    a: int\n",
    "    b: int\n",
    "\n",
    "Key = Union[int, str]\n",
    "\n",
    "Value = Union[str,Data2]\n",
    "\n",
    "data: Dict[Key, Value] = {\n",
    "    \"fname\": \"Muhammad Aslam\",\n",
    "    \"lname\": \"Sheikh\",\n",
    "    \"cde\": {\"a\": 1, \"b\": 2},\n",
    "}\n",
    "\n",
    "# print(data[\"cde\"][\"a\"]) # This is giving error because string is not indexable.\n",
    "#only dictionary is indexable, thats why we coinfirm if its  a dictionary in below code \n",
    "\n",
    "\n",
    "if isinstance(data[\"cde\"], dict) :\n",
    "    print(data[\"cde\"][\"a\"])\n",
    "else:\n",
    "    print(\"Key 'a' not found in 'cde'\")\n",
    "\n",
    "if isinstance(data[\"cde\"], dict) and \"a\" in data[\"cde\"]:\n",
    "    print(data[\"cde\"][\"a\"])\n",
    "else:\n",
    "    print(\"Key 'a' not found in 'cde'\")"
   ]
  },
  {
   "cell_type": "code",
   "execution_count": 44,
   "metadata": {},
   "outputs": [
    {
     "name": "stdout",
     "output_type": "stream",
     "text": [
      "['clear', 'copy', 'fromkeys', 'get', 'items', 'keys', 'pop', 'popitem', 'setdefault', 'update', 'values']\n"
     ]
    }
   ],
   "source": [
    "methods: list[str] = [i for i in dir(dict) if \"__\" not in i]\n",
    "print(methods)"
   ]
  },
  {
   "cell_type": "code",
   "execution_count": 45,
   "metadata": {},
   "outputs": [
    {
     "name": "stdout",
     "output_type": "stream",
     "text": [
      "{'fname': 'Muhammad Aslam', 'lname': 'Sheikh', 'cde': {'a': 1, 'b': 2}}\n",
      "{'a': 1, 'b': 2}\n",
      "{'fname': 'Muhammad Aslam', 'lname': 'Sheikh'}\n",
      "('lname', 'Sheikh')\n",
      "{}\n",
      "{}\n"
     ]
    }
   ],
   "source": [
    "print(data)\n",
    "val = data.pop(\"cde\")\n",
    "print(val)\n",
    "print(data)\n",
    "val2 = data.popitem() #returns a tuple\n",
    "print(val2)\n",
    "data.clear()\n",
    "print(data)\n",
    "# del data\n",
    "print(data)"
   ]
  },
  {
   "cell_type": "code",
   "execution_count": 48,
   "metadata": {},
   "outputs": [
    {
     "data": {
      "text/plain": [
       "'Empty Val'"
      ]
     },
     "execution_count": 48,
     "metadata": {},
     "output_type": "execute_result"
    }
   ],
   "source": [
    "data.setdefault(\"India\")\n",
    "data.setdefault(\"Pakistan\",\"Empty Val\")"
   ]
  },
  {
   "cell_type": "code",
   "execution_count": 49,
   "metadata": {},
   "outputs": [
    {
     "name": "stdout",
     "output_type": "stream",
     "text": [
      "{'Pakistan': 'Empty Val', 'India': None}\n"
     ]
    }
   ],
   "source": [
    "print(data)"
   ]
  },
  {
   "cell_type": "code",
   "execution_count": 52,
   "metadata": {},
   "outputs": [
    {
     "name": "stdout",
     "output_type": "stream",
     "text": [
      "{'education', 'fname', 'llname', 'lname', 'age'}\n",
      "<class 'set'>\n"
     ]
    }
   ],
   "source": [
    "data1: Dict[str,str] = {\n",
    "    \"fname\": \"Haseeb\",\n",
    "    \"lname\": \"IJaz\",\n",
    "    \"llname\": \"Sheikh\"\n",
    "}\n",
    "data2: Dict[str,str] = {\n",
    "    \"age\": \"12\",\n",
    "    \"education\": \"bscs\"\n",
    "}\n",
    "\n",
    "data3: Dict[str,str] = {\n",
    "    *data1,*data2\n",
    "} \n",
    "print(data3)\n",
    "print(type(data3))"
   ]
  },
  {
   "cell_type": "code",
   "execution_count": 53,
   "metadata": {},
   "outputs": [
    {
     "name": "stdout",
     "output_type": "stream",
     "text": [
      "{'age': '12', 'education': 'bscs', 'fname': 'Haseeb', 'lname': 'IJaz', 'llname': 'Sheikh'}\n"
     ]
    }
   ],
   "source": [
    "data2.update(data1)\n",
    "print(data2)"
   ]
  },
  {
   "cell_type": "code",
   "execution_count": 58,
   "metadata": {},
   "outputs": [
    {
     "data": {
      "text/plain": [
       "'\\nwhen doing serialization and deserialization with json object, \\nwe use javascript object to store the data parsed from json , \\nlikewise in python when parsing data from json or jsonl \\nwe will be using dataframes or dictionaries'"
      ]
     },
     "execution_count": 58,
     "metadata": {},
     "output_type": "execute_result"
    }
   ],
   "source": [
    "import pandas as pd\n",
    "from typing import Any\n",
    "student_data: Dict[str,list[Any]] = {\n",
    "    \"roll no\": [1,2,3],\n",
    "    \"Name\": [\"Sir Zia\",\"Sir Inaam\",\"Muhammad Qasim\"],\n",
    "    \"Education\": [\"Master\",\"Master\",\"Master\"]\n",
    "}\n",
    "\n",
    "pd.DataFrame(student_data)\n",
    "#Dictionaries are important with pandas\n",
    "#We store big data in jsonl format instead of json format\n",
    "#For structured data dictionaries are very important\n",
    "\"\"\"\n",
    "when doing serialization and deserialization with json object, \n",
    "we use javascript object to store the data parsed from json , \n",
    "likewise in python when parsing data from json or jsonl \n",
    "we will be using dataframes or dictionaries\"\"\"\n"
   ]
  },
  {
   "cell_type": "code",
   "execution_count": 62,
   "metadata": {},
   "outputs": [
    {
     "name": "stdout",
     "output_type": "stream",
     "text": [
      "{'fname': 'Kainat', 'lname': 'IJaz', 'llname': 'Sheikh'}\n",
      "{'lname': 'IJaz', 'llname': 'Sheikh'}\n",
      "{'lname': 'IJaz', 'llname': 'Sheikh'}\n"
     ]
    }
   ],
   "source": [
    "data1: Dict[str,str] = {\n",
    "    \"fname\": \"Haseeb\",\n",
    "    \"fname\": \"Kainat\",\n",
    "    \"lname\": \"IJaz\",\n",
    "    \"llname\": \"Sheikh\"\n",
    "}\n",
    "print(data1)\n",
    "del data1[\"fname\"]\n",
    "print(data1)\n",
    "data1.get(\"name\",\"placeholder_name\")\n",
    "print(data1)"
   ]
  },
  {
   "cell_type": "code",
   "execution_count": 63,
   "metadata": {},
   "outputs": [
    {
     "name": "stdout",
     "output_type": "stream",
     "text": [
      "{'Python', 'C++', 'C'}\n"
     ]
    }
   ],
   "source": [
    "languages: set[str] = {\"C++\",\"C\",\"C++\",\"Python\",\"C\"}\n",
    "print(languages)"
   ]
  },
  {
   "cell_type": "markdown",
   "metadata": {},
   "source": [
    "# Regex is Necessary for NLP"
   ]
  },
  {
   "cell_type": "markdown",
   "metadata": {},
   "source": [
    "# Dealing with JSON is like dealing with List of Dictionaries"
   ]
  },
  {
   "cell_type": "code",
   "execution_count": 69,
   "metadata": {},
   "outputs": [
    {
     "name": "stdout",
     "output_type": "stream",
     "text": [
      "{'color': 'blue', 'points': '1'}\n",
      "{'color': 'ref', 'points': '2'}\n",
      "{'color': 'green', 'points': '4'}\n"
     ]
    }
   ],
   "source": [
    "alien_0: Dict[str,str] = {\"color\": \"blue\",\"points\":\"1\"}\n",
    "alien_1: Dict[str,str] = {\"color\": \"ref\",\"points\":\"2\"}\n",
    "alien_2: Dict[str,str] = {\"color\": \"green\",\"points\":\"4\"}\n",
    "aliens: list[Dict[str,str]] = [alien_0,alien_1,alien_2]\n",
    "for alien in aliens:\n",
    "    print(alien)\n"
   ]
  },
  {
   "cell_type": "code",
   "execution_count": 73,
   "metadata": {},
   "outputs": [
    {
     "name": "stdout",
     "output_type": "stream",
     "text": [
      "[{'color': 'green', 'points': '0'}, {'color': 'green', 'points': '1'}, {'color': 'green', 'points': '2'}, {'color': 'green', 'points': '3'}, {'color': 'green', 'points': '4'}, {'color': 'green', 'points': '5'}, {'color': 'green', 'points': '6'}, {'color': 'green', 'points': '7'}, {'color': 'green', 'points': '8'}, {'color': 'green', 'points': '9'}, {'color': 'green', 'points': '10'}, {'color': 'green', 'points': '11'}, {'color': 'green', 'points': '12'}, {'color': 'green', 'points': '13'}, {'color': 'green', 'points': '14'}, {'color': 'green', 'points': '15'}, {'color': 'green', 'points': '16'}, {'color': 'green', 'points': '17'}, {'color': 'green', 'points': '18'}, {'color': 'green', 'points': '19'}, {'color': 'green', 'points': '20'}, {'color': 'green', 'points': '21'}, {'color': 'green', 'points': '22'}, {'color': 'green', 'points': '23'}, {'color': 'green', 'points': '24'}, {'color': 'green', 'points': '25'}, {'color': 'green', 'points': '26'}, {'color': 'green', 'points': '27'}, {'color': 'green', 'points': '28'}, {'color': 'green', 'points': '29'}]\n",
      "{'color': 'green', 'points': '0'}\n",
      "{'color': 'green', 'points': '1'}\n",
      "{'color': 'green', 'points': '2'}\n",
      "{'color': 'green', 'points': '3'}\n",
      "{'color': 'green', 'points': '4'}\n"
     ]
    }
   ],
   "source": [
    "aliens: list[Dict[str,str]] = []\n",
    "\n",
    "for i in range(30):\n",
    "    aliens.append({\"color\": \"green\", \"points\": f\"{i}\"})\n",
    "\n",
    "print(aliens)\n",
    "\n",
    "#Show the first 5 aliens:\n",
    "\n",
    "for i in aliens[:5]:\n",
    "    print(i)"
   ]
  },
  {
   "cell_type": "code",
   "execution_count": 74,
   "metadata": {},
   "outputs": [],
   "source": [
    "#Dictionaries and Databases are heavily linked\n",
    "#Whenever we create a database , it will always look like a dictionary structure to you\n",
    "#A list of dictionaries"
   ]
  },
  {
   "cell_type": "markdown",
   "metadata": {},
   "source": [
    "# JSON is just a string that is formtted and has key value pairs embedded and formattedin the string\n",
    "# JSON Format is just format of a string that contains keys and values embedded in it"
   ]
  },
  {
   "cell_type": "code",
   "execution_count": 80,
   "metadata": {},
   "outputs": [
    {
     "name": "stdout",
     "output_type": "stream",
     "text": [
      "{\n",
      "                                                                                                    \"fname\": \"Kainat\",\n",
      "                                                                                                    \"lname\": \"IJaz\",\n",
      "                                                                                                    \"llname\": \"Sheikh\"\n",
      "}\n",
      "<class 'str'>\n"
     ]
    }
   ],
   "source": [
    "import json\n",
    "data5: Dict[str,str] = {\n",
    "    \"fname\": \"Haseeb\",\n",
    "    \"fname\": \"Kainat\",\n",
    "    \"lname\": \"IJaz\",\n",
    "    \"llname\": \"Sheikh\"\n",
    "}\n",
    "data6 = json.dumps(data5, indent=100)\n",
    "print(data6)\n",
    "print(type(data6))"
   ]
  },
  {
   "cell_type": "code",
   "execution_count": null,
   "metadata": {},
   "outputs": [],
   "source": []
  },
  {
   "cell_type": "code",
   "execution_count": null,
   "metadata": {},
   "outputs": [],
   "source": []
  },
  {
   "cell_type": "code",
   "execution_count": null,
   "metadata": {},
   "outputs": [],
   "source": []
  },
  {
   "cell_type": "code",
   "execution_count": null,
   "metadata": {},
   "outputs": [],
   "source": []
  }
 ],
 "metadata": {
  "kernelspec": {
   "display_name": "python3.12",
   "language": "python",
   "name": "python3"
  },
  "language_info": {
   "codemirror_mode": {
    "name": "ipython",
    "version": 3
   },
   "file_extension": ".py",
   "mimetype": "text/x-python",
   "name": "python",
   "nbconvert_exporter": "python",
   "pygments_lexer": "ipython3",
   "version": "3.12.0"
  }
 },
 "nbformat": 4,
 "nbformat_minor": 2
}
