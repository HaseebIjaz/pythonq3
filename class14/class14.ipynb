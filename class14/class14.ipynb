{
 "cells": [
  {
   "cell_type": "code",
   "execution_count": 3,
   "metadata": {},
   "outputs": [
    {
     "data": {
      "text/plain": [
       "type"
      ]
     },
     "execution_count": 3,
     "metadata": {},
     "output_type": "execute_result"
    }
   ],
   "source": [
    "class SampleClass():\n",
    "    def method(self):\n",
    "        print(\"You callled the method\")\n",
    "type(SampleClass)\n",
    "type(type)"
   ]
  },
  {
   "cell_type": "code",
   "execution_count": 6,
   "metadata": {},
   "outputs": [
    {
     "name": "stdout",
     "output_type": "stream",
     "text": [
      "<class 'type'>\n"
     ]
    }
   ],
   "source": [
    "print(type(type))\n",
    "print()"
   ]
  },
  {
   "cell_type": "code",
   "execution_count": 5,
   "metadata": {},
   "outputs": [],
   "source": [
    "#Anything that has __call__ method is callable"
   ]
  },
  {
   "cell_type": "code",
   "execution_count": 7,
   "metadata": {},
   "outputs": [
    {
     "ename": "TypeError",
     "evalue": "not really callable",
     "output_type": "error",
     "traceback": [
      "\u001b[0;31m---------------------------------------------------------------------------\u001b[0m",
      "\u001b[0;31mTypeError\u001b[0m                                 Traceback (most recent call last)",
      "Cell \u001b[0;32mIn[7], line 8\u001b[0m\n\u001b[1;32m      5\u001b[0m         \u001b[38;5;28;01mraise\u001b[39;00m \u001b[38;5;167;01mTypeError\u001b[39;00m(\u001b[38;5;124m\"\u001b[39m\u001b[38;5;124mnot really callable\u001b[39m\u001b[38;5;124m\"\u001b[39m)\n\u001b[1;32m      7\u001b[0m instance:NonCallable \u001b[38;5;241m=\u001b[39m NonCallable()\n\u001b[0;32m----> 8\u001b[0m \u001b[43minstance\u001b[49m\u001b[43m(\u001b[49m\u001b[43m)\u001b[49m\n",
      "Cell \u001b[0;32mIn[7], line 5\u001b[0m, in \u001b[0;36mNonCallable.__call__\u001b[0;34m(self)\u001b[0m\n\u001b[1;32m      4\u001b[0m \u001b[38;5;28;01mdef\u001b[39;00m \u001b[38;5;21m__call__\u001b[39m(\u001b[38;5;28mself\u001b[39m):\n\u001b[0;32m----> 5\u001b[0m     \u001b[38;5;28;01mraise\u001b[39;00m \u001b[38;5;167;01mTypeError\u001b[39;00m(\u001b[38;5;124m\"\u001b[39m\u001b[38;5;124mnot really callable\u001b[39m\u001b[38;5;124m\"\u001b[39m)\n",
      "\u001b[0;31mTypeError\u001b[0m: not really callable"
     ]
    }
   ],
   "source": [
    "#if we want to makesomething non-callable\n",
    "\n",
    "class NonCallable:\n",
    "    def __call__(self):\n",
    "        raise TypeError(\"not really callable\")\n",
    "    \n",
    "instance:NonCallable = NonCallable()\n",
    "instance()\n"
   ]
  },
  {
   "cell_type": "code",
   "execution_count": 9,
   "metadata": {},
   "outputs": [
    {
     "name": "stdout",
     "output_type": "stream",
     "text": [
      "9\n"
     ]
    }
   ],
   "source": [
    "class PowerFactory():\n",
    "    def __init__(self,exponent = 2):\n",
    "        self.exponent = exponent\n",
    "    def __call__(self,base):\n",
    "        return base**self.exponent\n",
    "\n",
    "fct:PowerFactory = PowerFactory()\n",
    "print(fct(3))"
   ]
  },
  {
   "cell_type": "code",
   "execution_count": 10,
   "metadata": {},
   "outputs": [
    {
     "data": {
      "text/plain": [
       "2.0"
      ]
     },
     "execution_count": 10,
     "metadata": {},
     "output_type": "execute_result"
    }
   ],
   "source": [
    "class CumulativeAverager:\n",
    "    def __init__(self):\n",
    "        self.data = []\n",
    "    def __call__(self,new_value):\n",
    "        self.data.append(new_value)\n",
    "        return sum(self.data) / len(self.data)\n",
    "    \n",
    "stream_average:CumulativeAverager = CumulativeAverager() #__init__() called\n",
    "stream_average(1) # __call__() called\n",
    "stream_average(2) #__call__() called\n",
    "stream_average(3) #__call__() called\n",
    "\n",
    "    "
   ]
  },
  {
   "cell_type": "code",
   "execution_count": 12,
   "metadata": {},
   "outputs": [
    {
     "data": {
      "text/plain": [
       "24"
      ]
     },
     "execution_count": 12,
     "metadata": {},
     "output_type": "execute_result"
    }
   ],
   "source": [
    "class Factorial:\n",
    "    def __init__(self):\n",
    "        self.cache = {0:1, 1:1}\n",
    "    def __call__(self,num:int) -> int:\n",
    "        if num not in self.cache:\n",
    "            self.cache[num] = num * self(num - 1)\n",
    "        return self.cache[num]\n",
    "    \n",
    "factorial_of: Factorial = Factorial() #__init__() called\n",
    "\n",
    "factorial_of(4) # __call__() called"
   ]
  },
  {
   "cell_type": "code",
   "execution_count": 13,
   "metadata": {},
   "outputs": [],
   "source": [
    "#time.py\n",
    "import time\n",
    "\n",
    "class ExecutionTimer:\n",
    "    def __init__(self,func):\n",
    "        self.func = func\n",
    "    def __call__(self, *args, **kwargs):\n",
    "        start = time.perf_counter()\n",
    "        result = self.func(args,kwargs)\n",
    "        end = time.perf_counter()\n",
    "        print(f\"{self.func.__name__}() took {(end - start) * 1000:.4f} ms\")\n",
    "        return result  \n",
    "\n",
    "        \n"
   ]
  },
  {
   "cell_type": "code",
   "execution_count": null,
   "metadata": {},
   "outputs": [],
   "source": [
    "# In Python, every .py file is a python module\n",
    "# Every folder containing one or more python modules and a __init__.py file is a package\n",
    "# A package can conain further subpackages but each subpackege will also have its __init__.py\n",
    "#  "
   ]
  },
  {
   "cell_type": "code",
   "execution_count": null,
   "metadata": {},
   "outputs": [],
   "source": []
  },
  {
   "cell_type": "code",
   "execution_count": null,
   "metadata": {},
   "outputs": [],
   "source": []
  },
  {
   "cell_type": "code",
   "execution_count": null,
   "metadata": {},
   "outputs": [],
   "source": []
  },
  {
   "cell_type": "code",
   "execution_count": null,
   "metadata": {},
   "outputs": [],
   "source": []
  },
  {
   "cell_type": "code",
   "execution_count": null,
   "metadata": {},
   "outputs": [],
   "source": []
  },
  {
   "cell_type": "code",
   "execution_count": null,
   "metadata": {},
   "outputs": [],
   "source": []
  },
  {
   "cell_type": "code",
   "execution_count": null,
   "metadata": {},
   "outputs": [],
   "source": []
  },
  {
   "cell_type": "code",
   "execution_count": null,
   "metadata": {},
   "outputs": [],
   "source": []
  },
  {
   "cell_type": "code",
   "execution_count": null,
   "metadata": {},
   "outputs": [],
   "source": []
  }
 ],
 "metadata": {
  "kernelspec": {
   "display_name": "python3.12",
   "language": "python",
   "name": "python3"
  },
  "language_info": {
   "codemirror_mode": {
    "name": "ipython",
    "version": 3
   },
   "file_extension": ".py",
   "mimetype": "text/x-python",
   "name": "python",
   "nbconvert_exporter": "python",
   "pygments_lexer": "ipython3",
   "version": "3.12.0"
  }
 },
 "nbformat": 4,
 "nbformat_minor": 2
}
